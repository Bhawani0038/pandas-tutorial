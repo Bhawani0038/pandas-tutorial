{
 "cells": [
  {
   "cell_type": "code",
   "execution_count": 3,
   "id": "b1d1de8a",
   "metadata": {},
   "outputs": [],
   "source": [
    "import numpy as np\n",
    "import pandas as pd"
   ]
  },
  {
   "cell_type": "markdown",
   "id": "e249bf18",
   "metadata": {},
   "source": [
    "SERIES"
   ]
  },
  {
   "cell_type": "code",
   "execution_count": 4,
   "id": "1587662f",
   "metadata": {},
   "outputs": [],
   "source": [
    "s = pd.Series([20, 40, 80, 50, 50, 80, 50])"
   ]
  },
  {
   "cell_type": "code",
   "execution_count": 5,
   "id": "86e50983",
   "metadata": {},
   "outputs": [
    {
     "data": {
      "text/plain": [
       "np.int64(370)"
      ]
     },
     "execution_count": 5,
     "metadata": {},
     "output_type": "execute_result"
    }
   ],
   "source": [
    "s.sum()"
   ]
  },
  {
   "cell_type": "code",
   "execution_count": 6,
   "id": "7c1f8f21",
   "metadata": {},
   "outputs": [
    {
     "data": {
      "text/plain": [
       "np.int64(80)"
      ]
     },
     "execution_count": 6,
     "metadata": {},
     "output_type": "execute_result"
    }
   ],
   "source": [
    "s.max()"
   ]
  },
  {
   "cell_type": "markdown",
   "id": "b11f27c4",
   "metadata": {},
   "source": [
    "MEASURE OF CENTER TENDENCY"
   ]
  },
  {
   "cell_type": "code",
   "execution_count": 7,
   "id": "a252563d",
   "metadata": {},
   "outputs": [
    {
     "data": {
      "text/plain": [
       "np.int64(20)"
      ]
     },
     "execution_count": 7,
     "metadata": {},
     "output_type": "execute_result"
    }
   ],
   "source": [
    "s.min()"
   ]
  },
  {
   "cell_type": "code",
   "execution_count": 8,
   "id": "de0e2c84",
   "metadata": {},
   "outputs": [
    {
     "data": {
      "text/plain": [
       "np.float64(52.857142857142854)"
      ]
     },
     "execution_count": 8,
     "metadata": {},
     "output_type": "execute_result"
    }
   ],
   "source": [
    "s.mean()"
   ]
  },
  {
   "cell_type": "code",
   "execution_count": 9,
   "id": "cc4389fe",
   "metadata": {},
   "outputs": [
    {
     "data": {
      "text/plain": [
       "np.float64(50.0)"
      ]
     },
     "execution_count": 9,
     "metadata": {},
     "output_type": "execute_result"
    }
   ],
   "source": [
    "s.median()"
   ]
  },
  {
   "cell_type": "markdown",
   "id": "ad4e26b0",
   "metadata": {},
   "source": [
    "MEASURE OF SPREAD"
   ]
  },
  {
   "cell_type": "code",
   "execution_count": 10,
   "id": "3363010a",
   "metadata": {},
   "outputs": [
    {
     "data": {
      "text/plain": [
       "np.float64(21.38089935299395)"
      ]
     },
     "execution_count": 10,
     "metadata": {},
     "output_type": "execute_result"
    }
   ],
   "source": [
    "s.std()"
   ]
  },
  {
   "cell_type": "code",
   "execution_count": 11,
   "id": "47df5d1d",
   "metadata": {},
   "outputs": [
    {
     "data": {
      "text/plain": [
       "np.float64(457.14285714285717)"
      ]
     },
     "execution_count": 11,
     "metadata": {},
     "output_type": "execute_result"
    }
   ],
   "source": [
    "s.var()"
   ]
  },
  {
   "cell_type": "code",
   "execution_count": 12,
   "id": "33e93330",
   "metadata": {},
   "outputs": [
    {
     "data": {
      "text/plain": [
       "50    3\n",
       "80    2\n",
       "40    1\n",
       "20    1\n",
       "Name: count, dtype: int64"
      ]
     },
     "execution_count": 12,
     "metadata": {},
     "output_type": "execute_result"
    }
   ],
   "source": [
    "s.value_counts()"
   ]
  },
  {
   "cell_type": "code",
   "execution_count": 13,
   "id": "b5b6a653",
   "metadata": {},
   "outputs": [
    {
     "data": {
      "text/plain": [
       "RangeIndex(start=0, stop=7, step=1)"
      ]
     },
     "execution_count": 13,
     "metadata": {},
     "output_type": "execute_result"
    }
   ],
   "source": [
    "s.index"
   ]
  },
  {
   "cell_type": "code",
   "execution_count": 14,
   "id": "8d651006",
   "metadata": {},
   "outputs": [
    {
     "data": {
      "text/plain": [
       "array([20, 40, 80, 50, 50, 80, 50])"
      ]
     },
     "execution_count": 14,
     "metadata": {},
     "output_type": "execute_result"
    }
   ],
   "source": [
    "s.values"
   ]
  },
  {
   "cell_type": "markdown",
   "id": "79cc7c39",
   "metadata": {},
   "source": [
    "DATAFRAME"
   ]
  },
  {
   "cell_type": "code",
   "execution_count": 15,
   "id": "979bc669",
   "metadata": {},
   "outputs": [],
   "source": [
    "student_data = pd.DataFrame({\n",
    "    \"name\"      : ['AMAN', 'ANIL', 'AMAN', 'VINIT', 'MAHESH'],\n",
    "    \"age\"       : [20, 21, 20, 22, 21],\n",
    "    \"physics\"   : [10, 91, 60, 70, 80],\n",
    "    \"chimistry\" : [20, 30, 50, 45, 35],\n",
    "    \"maths\"     : [40, 52, 56, 60, 50]\n",
    "})"
   ]
  },
  {
   "cell_type": "code",
   "execution_count": 16,
   "id": "29a361e4",
   "metadata": {},
   "outputs": [
    {
     "data": {
      "text/html": [
       "<div>\n",
       "<style scoped>\n",
       "    .dataframe tbody tr th:only-of-type {\n",
       "        vertical-align: middle;\n",
       "    }\n",
       "\n",
       "    .dataframe tbody tr th {\n",
       "        vertical-align: top;\n",
       "    }\n",
       "\n",
       "    .dataframe thead th {\n",
       "        text-align: right;\n",
       "    }\n",
       "</style>\n",
       "<table border=\"1\" class=\"dataframe\">\n",
       "  <thead>\n",
       "    <tr style=\"text-align: right;\">\n",
       "      <th></th>\n",
       "      <th>name</th>\n",
       "      <th>age</th>\n",
       "      <th>physics</th>\n",
       "      <th>chimistry</th>\n",
       "      <th>maths</th>\n",
       "    </tr>\n",
       "  </thead>\n",
       "  <tbody>\n",
       "    <tr>\n",
       "      <th>0</th>\n",
       "      <td>AMAN</td>\n",
       "      <td>20</td>\n",
       "      <td>10</td>\n",
       "      <td>20</td>\n",
       "      <td>40</td>\n",
       "    </tr>\n",
       "    <tr>\n",
       "      <th>1</th>\n",
       "      <td>ANIL</td>\n",
       "      <td>21</td>\n",
       "      <td>91</td>\n",
       "      <td>30</td>\n",
       "      <td>52</td>\n",
       "    </tr>\n",
       "    <tr>\n",
       "      <th>2</th>\n",
       "      <td>AMAN</td>\n",
       "      <td>20</td>\n",
       "      <td>60</td>\n",
       "      <td>50</td>\n",
       "      <td>56</td>\n",
       "    </tr>\n",
       "    <tr>\n",
       "      <th>3</th>\n",
       "      <td>VINIT</td>\n",
       "      <td>22</td>\n",
       "      <td>70</td>\n",
       "      <td>45</td>\n",
       "      <td>60</td>\n",
       "    </tr>\n",
       "    <tr>\n",
       "      <th>4</th>\n",
       "      <td>MAHESH</td>\n",
       "      <td>21</td>\n",
       "      <td>80</td>\n",
       "      <td>35</td>\n",
       "      <td>50</td>\n",
       "    </tr>\n",
       "  </tbody>\n",
       "</table>\n",
       "</div>"
      ],
      "text/plain": [
       "     name  age  physics  chimistry  maths\n",
       "0    AMAN   20       10         20     40\n",
       "1    ANIL   21       91         30     52\n",
       "2    AMAN   20       60         50     56\n",
       "3   VINIT   22       70         45     60\n",
       "4  MAHESH   21       80         35     50"
      ]
     },
     "execution_count": 16,
     "metadata": {},
     "output_type": "execute_result"
    }
   ],
   "source": [
    "student_data"
   ]
  },
  {
   "cell_type": "code",
   "execution_count": 17,
   "id": "8c5686e8",
   "metadata": {},
   "outputs": [],
   "source": [
    "student_data['total'] = student_data['physics'] + student_data['chimistry'] + student_data['maths']"
   ]
  },
  {
   "cell_type": "code",
   "execution_count": 18,
   "id": "673cb0c1",
   "metadata": {},
   "outputs": [],
   "source": [
    "student_data['percentage'] = round(student_data.total / 3, ndigits=2)"
   ]
  },
  {
   "cell_type": "code",
   "execution_count": 19,
   "id": "0fc01313",
   "metadata": {},
   "outputs": [],
   "source": [
    "student_data.sort_values(by = 'percentage', ascending= False, inplace= True, ignore_index= True )"
   ]
  },
  {
   "cell_type": "code",
   "execution_count": 20,
   "id": "cb170903",
   "metadata": {},
   "outputs": [
    {
     "data": {
      "text/html": [
       "<div>\n",
       "<style scoped>\n",
       "    .dataframe tbody tr th:only-of-type {\n",
       "        vertical-align: middle;\n",
       "    }\n",
       "\n",
       "    .dataframe tbody tr th {\n",
       "        vertical-align: top;\n",
       "    }\n",
       "\n",
       "    .dataframe thead th {\n",
       "        text-align: right;\n",
       "    }\n",
       "</style>\n",
       "<table border=\"1\" class=\"dataframe\">\n",
       "  <thead>\n",
       "    <tr style=\"text-align: right;\">\n",
       "      <th></th>\n",
       "      <th>name</th>\n",
       "      <th>age</th>\n",
       "      <th>physics</th>\n",
       "      <th>chimistry</th>\n",
       "      <th>maths</th>\n",
       "      <th>total</th>\n",
       "      <th>percentage</th>\n",
       "    </tr>\n",
       "  </thead>\n",
       "  <tbody>\n",
       "    <tr>\n",
       "      <th>0</th>\n",
       "      <td>VINIT</td>\n",
       "      <td>22</td>\n",
       "      <td>70</td>\n",
       "      <td>45</td>\n",
       "      <td>60</td>\n",
       "      <td>175</td>\n",
       "      <td>58.33</td>\n",
       "    </tr>\n",
       "    <tr>\n",
       "      <th>1</th>\n",
       "      <td>ANIL</td>\n",
       "      <td>21</td>\n",
       "      <td>91</td>\n",
       "      <td>30</td>\n",
       "      <td>52</td>\n",
       "      <td>173</td>\n",
       "      <td>57.67</td>\n",
       "    </tr>\n",
       "    <tr>\n",
       "      <th>2</th>\n",
       "      <td>AMAN</td>\n",
       "      <td>20</td>\n",
       "      <td>60</td>\n",
       "      <td>50</td>\n",
       "      <td>56</td>\n",
       "      <td>166</td>\n",
       "      <td>55.33</td>\n",
       "    </tr>\n",
       "    <tr>\n",
       "      <th>3</th>\n",
       "      <td>MAHESH</td>\n",
       "      <td>21</td>\n",
       "      <td>80</td>\n",
       "      <td>35</td>\n",
       "      <td>50</td>\n",
       "      <td>165</td>\n",
       "      <td>55.00</td>\n",
       "    </tr>\n",
       "    <tr>\n",
       "      <th>4</th>\n",
       "      <td>AMAN</td>\n",
       "      <td>20</td>\n",
       "      <td>10</td>\n",
       "      <td>20</td>\n",
       "      <td>40</td>\n",
       "      <td>70</td>\n",
       "      <td>23.33</td>\n",
       "    </tr>\n",
       "  </tbody>\n",
       "</table>\n",
       "</div>"
      ],
      "text/plain": [
       "     name  age  physics  chimistry  maths  total  percentage\n",
       "0   VINIT   22       70         45     60    175       58.33\n",
       "1    ANIL   21       91         30     52    173       57.67\n",
       "2    AMAN   20       60         50     56    166       55.33\n",
       "3  MAHESH   21       80         35     50    165       55.00\n",
       "4    AMAN   20       10         20     40     70       23.33"
      ]
     },
     "execution_count": 20,
     "metadata": {},
     "output_type": "execute_result"
    }
   ],
   "source": [
    "student_data"
   ]
  },
  {
   "cell_type": "code",
   "execution_count": 21,
   "id": "e01aac7d",
   "metadata": {},
   "outputs": [],
   "source": [
    "def give_grades(percent):\n",
    "    if percent < 33:\n",
    "        return \"F\"\n",
    "    \n",
    "    elif percent < 50:\n",
    "        return \"C\"\n",
    "    \n",
    "    elif percent < 60:\n",
    "        return \"B\"\n",
    "    \n",
    "    elif percent < 90:\n",
    "        return \"A\"\n",
    "    \n",
    "    else:\n",
    "        return \"A+\""
   ]
  },
  {
   "cell_type": "code",
   "execution_count": 22,
   "id": "afa73ca0",
   "metadata": {},
   "outputs": [],
   "source": [
    "student_data['grades'] = student_data['percentage'].apply(func= give_grades)"
   ]
  },
  {
   "cell_type": "code",
   "execution_count": 23,
   "id": "d6c2333e",
   "metadata": {},
   "outputs": [],
   "source": [
    "# BOOLEAN INDEXING"
   ]
  },
  {
   "cell_type": "code",
   "execution_count": 24,
   "id": "46a37b69",
   "metadata": {},
   "outputs": [],
   "source": [
    "# find out names of those whose age is more than 21\n",
    "# find out data of those who got failed\n",
    "# find out those who got grade a or a+"
   ]
  },
  {
   "cell_type": "code",
   "execution_count": 25,
   "id": "aaaba0af",
   "metadata": {},
   "outputs": [
    {
     "data": {
      "text/html": [
       "<div>\n",
       "<style scoped>\n",
       "    .dataframe tbody tr th:only-of-type {\n",
       "        vertical-align: middle;\n",
       "    }\n",
       "\n",
       "    .dataframe tbody tr th {\n",
       "        vertical-align: top;\n",
       "    }\n",
       "\n",
       "    .dataframe thead th {\n",
       "        text-align: right;\n",
       "    }\n",
       "</style>\n",
       "<table border=\"1\" class=\"dataframe\">\n",
       "  <thead>\n",
       "    <tr style=\"text-align: right;\">\n",
       "      <th></th>\n",
       "      <th>name</th>\n",
       "      <th>age</th>\n",
       "      <th>physics</th>\n",
       "      <th>chimistry</th>\n",
       "      <th>maths</th>\n",
       "      <th>total</th>\n",
       "      <th>percentage</th>\n",
       "      <th>grades</th>\n",
       "    </tr>\n",
       "  </thead>\n",
       "  <tbody>\n",
       "    <tr>\n",
       "      <th>0</th>\n",
       "      <td>VINIT</td>\n",
       "      <td>22</td>\n",
       "      <td>70</td>\n",
       "      <td>45</td>\n",
       "      <td>60</td>\n",
       "      <td>175</td>\n",
       "      <td>58.33</td>\n",
       "      <td>B</td>\n",
       "    </tr>\n",
       "    <tr>\n",
       "      <th>2</th>\n",
       "      <td>AMAN</td>\n",
       "      <td>20</td>\n",
       "      <td>60</td>\n",
       "      <td>50</td>\n",
       "      <td>56</td>\n",
       "      <td>166</td>\n",
       "      <td>55.33</td>\n",
       "      <td>B</td>\n",
       "    </tr>\n",
       "  </tbody>\n",
       "</table>\n",
       "</div>"
      ],
      "text/plain": [
       "    name  age  physics  chimistry  maths  total  percentage grades\n",
       "0  VINIT   22       70         45     60    175       58.33      B\n",
       "2   AMAN   20       60         50     56    166       55.33      B"
      ]
     },
     "execution_count": 25,
     "metadata": {},
     "output_type": "execute_result"
    }
   ],
   "source": [
    "student_data[student_data['maths'] > 55]"
   ]
  },
  {
   "cell_type": "code",
   "execution_count": 26,
   "id": "03a67875",
   "metadata": {},
   "outputs": [
    {
     "data": {
      "text/html": [
       "<div>\n",
       "<style scoped>\n",
       "    .dataframe tbody tr th:only-of-type {\n",
       "        vertical-align: middle;\n",
       "    }\n",
       "\n",
       "    .dataframe tbody tr th {\n",
       "        vertical-align: top;\n",
       "    }\n",
       "\n",
       "    .dataframe thead th {\n",
       "        text-align: right;\n",
       "    }\n",
       "</style>\n",
       "<table border=\"1\" class=\"dataframe\">\n",
       "  <thead>\n",
       "    <tr style=\"text-align: right;\">\n",
       "      <th></th>\n",
       "      <th>name</th>\n",
       "      <th>age</th>\n",
       "      <th>physics</th>\n",
       "      <th>chimistry</th>\n",
       "      <th>maths</th>\n",
       "      <th>total</th>\n",
       "      <th>percentage</th>\n",
       "      <th>grades</th>\n",
       "    </tr>\n",
       "  </thead>\n",
       "  <tbody>\n",
       "    <tr>\n",
       "      <th>0</th>\n",
       "      <td>VINIT</td>\n",
       "      <td>22</td>\n",
       "      <td>70</td>\n",
       "      <td>45</td>\n",
       "      <td>60</td>\n",
       "      <td>175</td>\n",
       "      <td>58.33</td>\n",
       "      <td>B</td>\n",
       "    </tr>\n",
       "    <tr>\n",
       "      <th>2</th>\n",
       "      <td>AMAN</td>\n",
       "      <td>20</td>\n",
       "      <td>60</td>\n",
       "      <td>50</td>\n",
       "      <td>56</td>\n",
       "      <td>166</td>\n",
       "      <td>55.33</td>\n",
       "      <td>B</td>\n",
       "    </tr>\n",
       "  </tbody>\n",
       "</table>\n",
       "</div>"
      ],
      "text/plain": [
       "    name  age  physics  chimistry  maths  total  percentage grades\n",
       "0  VINIT   22       70         45     60    175       58.33      B\n",
       "2   AMAN   20       60         50     56    166       55.33      B"
      ]
     },
     "execution_count": 26,
     "metadata": {},
     "output_type": "execute_result"
    }
   ],
   "source": [
    "student_data[(student_data['physics'] > 55) & (student_data['physics'] < 75)]"
   ]
  },
  {
   "cell_type": "code",
   "execution_count": 27,
   "id": "cd6f4c2d",
   "metadata": {},
   "outputs": [
    {
     "data": {
      "text/plain": [
       "Series([], Name: name, dtype: object)"
      ]
     },
     "execution_count": 27,
     "metadata": {},
     "output_type": "execute_result"
    }
   ],
   "source": [
    "#identify people who scored well in maths but not so good in physics\n",
    "# maths > 50  , physics < 60   \n",
    "# student_data['maths']  > 50\n",
    "# student_data['physics'] < 60\n",
    "\n",
    "#bitwise and - > &  (ampersand)\n",
    "#bitwise or ->  | \n",
    "#bitwise not ->  ~ (tilde)\n",
    "\n",
    "\n",
    "student_data[ (student_data['chimistry'] > 40)  & ( student_data[ 'maths' ] < 45) ][\"name\"]"
   ]
  },
  {
   "cell_type": "code",
   "execution_count": 28,
   "id": "2d285b2e",
   "metadata": {},
   "outputs": [],
   "source": [
    "# student_data\n",
    "\n",
    "#what basic operation you can do on a table?\n",
    "\n",
    "#DELETE COLUMN \n",
    "# del student_data['grades']\n",
    "# student_data.drop(columns=['total', 'percentage'], inplace = True)\n",
    "\n",
    "#RENAME COLUMN\n",
    "# student_data.rename(columns={\"physics\": \"bio\", 'chimistry' : 'chemistry'}, inplace= True)\n",
    "# student_data['bio'] = student_data['bio'].astype(dtype='float')\n",
    "\n",
    "\n",
    "#CHNGE DATA TYPE\n",
    "# student_data['bio'] = student_data['bio'].astype(dtype='float')\n",
    "\n",
    "# DELTE ROWS VIA INDEXING\n",
    "# student_data.drop(labels=[1,3])\n",
    "\n",
    "\n",
    "#DELETE ROWS VIA CONDITION\n",
    "# student_data.drop(student_data[student_data['maths']  > 55].index)"
   ]
  },
  {
   "cell_type": "code",
   "execution_count": 29,
   "id": "b9b41d48",
   "metadata": {},
   "outputs": [],
   "source": [
    "student_data.rename(columns={\"physics\": \"bio\", 'chimistry' : 'chemistry'}, inplace= True)"
   ]
  },
  {
   "cell_type": "code",
   "execution_count": 30,
   "id": "54052a2d",
   "metadata": {},
   "outputs": [],
   "source": [
    "student_data['bio'] = student_data['bio'].astype(dtype='float')"
   ]
  },
  {
   "cell_type": "code",
   "execution_count": 31,
   "id": "beba32a8",
   "metadata": {},
   "outputs": [],
   "source": [
    "student_data['name'] = student_data['name'].astype(dtype= 'str')"
   ]
  },
  {
   "cell_type": "code",
   "execution_count": 32,
   "id": "77f34d44",
   "metadata": {},
   "outputs": [
    {
     "data": {
      "text/html": [
       "<div>\n",
       "<style scoped>\n",
       "    .dataframe tbody tr th:only-of-type {\n",
       "        vertical-align: middle;\n",
       "    }\n",
       "\n",
       "    .dataframe tbody tr th {\n",
       "        vertical-align: top;\n",
       "    }\n",
       "\n",
       "    .dataframe thead th {\n",
       "        text-align: right;\n",
       "    }\n",
       "</style>\n",
       "<table border=\"1\" class=\"dataframe\">\n",
       "  <thead>\n",
       "    <tr style=\"text-align: right;\">\n",
       "      <th></th>\n",
       "      <th>name</th>\n",
       "      <th>age</th>\n",
       "      <th>bio</th>\n",
       "      <th>chemistry</th>\n",
       "      <th>maths</th>\n",
       "      <th>total</th>\n",
       "      <th>percentage</th>\n",
       "      <th>grades</th>\n",
       "    </tr>\n",
       "  </thead>\n",
       "  <tbody>\n",
       "    <tr>\n",
       "      <th>0</th>\n",
       "      <td>VINIT</td>\n",
       "      <td>22</td>\n",
       "      <td>70.0</td>\n",
       "      <td>45</td>\n",
       "      <td>60</td>\n",
       "      <td>175</td>\n",
       "      <td>58.33</td>\n",
       "      <td>B</td>\n",
       "    </tr>\n",
       "    <tr>\n",
       "      <th>2</th>\n",
       "      <td>AMAN</td>\n",
       "      <td>20</td>\n",
       "      <td>60.0</td>\n",
       "      <td>50</td>\n",
       "      <td>56</td>\n",
       "      <td>166</td>\n",
       "      <td>55.33</td>\n",
       "      <td>B</td>\n",
       "    </tr>\n",
       "    <tr>\n",
       "      <th>4</th>\n",
       "      <td>AMAN</td>\n",
       "      <td>20</td>\n",
       "      <td>10.0</td>\n",
       "      <td>20</td>\n",
       "      <td>40</td>\n",
       "      <td>70</td>\n",
       "      <td>23.33</td>\n",
       "      <td>F</td>\n",
       "    </tr>\n",
       "  </tbody>\n",
       "</table>\n",
       "</div>"
      ],
      "text/plain": [
       "    name  age   bio  chemistry  maths  total  percentage grades\n",
       "0  VINIT   22  70.0         45     60    175       58.33      B\n",
       "2   AMAN   20  60.0         50     56    166       55.33      B\n",
       "4   AMAN   20  10.0         20     40     70       23.33      F"
      ]
     },
     "execution_count": 32,
     "metadata": {},
     "output_type": "execute_result"
    }
   ],
   "source": [
    "student_data.drop(labels=[1,3])"
   ]
  },
  {
   "cell_type": "code",
   "execution_count": 33,
   "id": "325dc714",
   "metadata": {},
   "outputs": [],
   "source": [
    "student_data =student_data[~(student_data['grades'] == 'F')]"
   ]
  },
  {
   "cell_type": "code",
   "execution_count": 34,
   "id": "c4338f6f",
   "metadata": {},
   "outputs": [
    {
     "data": {
      "text/html": [
       "<div>\n",
       "<style scoped>\n",
       "    .dataframe tbody tr th:only-of-type {\n",
       "        vertical-align: middle;\n",
       "    }\n",
       "\n",
       "    .dataframe tbody tr th {\n",
       "        vertical-align: top;\n",
       "    }\n",
       "\n",
       "    .dataframe thead th {\n",
       "        text-align: right;\n",
       "    }\n",
       "</style>\n",
       "<table border=\"1\" class=\"dataframe\">\n",
       "  <thead>\n",
       "    <tr style=\"text-align: right;\">\n",
       "      <th></th>\n",
       "      <th>name</th>\n",
       "      <th>age</th>\n",
       "      <th>bio</th>\n",
       "      <th>chemistry</th>\n",
       "      <th>maths</th>\n",
       "      <th>total</th>\n",
       "      <th>percentage</th>\n",
       "      <th>grades</th>\n",
       "    </tr>\n",
       "  </thead>\n",
       "  <tbody>\n",
       "    <tr>\n",
       "      <th>0</th>\n",
       "      <td>VINIT</td>\n",
       "      <td>22</td>\n",
       "      <td>70.0</td>\n",
       "      <td>45</td>\n",
       "      <td>60</td>\n",
       "      <td>175</td>\n",
       "      <td>58.33</td>\n",
       "      <td>B</td>\n",
       "    </tr>\n",
       "    <tr>\n",
       "      <th>1</th>\n",
       "      <td>ANIL</td>\n",
       "      <td>21</td>\n",
       "      <td>91.0</td>\n",
       "      <td>30</td>\n",
       "      <td>52</td>\n",
       "      <td>173</td>\n",
       "      <td>57.67</td>\n",
       "      <td>B</td>\n",
       "    </tr>\n",
       "    <tr>\n",
       "      <th>2</th>\n",
       "      <td>AMAN</td>\n",
       "      <td>20</td>\n",
       "      <td>60.0</td>\n",
       "      <td>50</td>\n",
       "      <td>56</td>\n",
       "      <td>166</td>\n",
       "      <td>55.33</td>\n",
       "      <td>B</td>\n",
       "    </tr>\n",
       "    <tr>\n",
       "      <th>3</th>\n",
       "      <td>MAHESH</td>\n",
       "      <td>21</td>\n",
       "      <td>80.0</td>\n",
       "      <td>35</td>\n",
       "      <td>50</td>\n",
       "      <td>165</td>\n",
       "      <td>55.00</td>\n",
       "      <td>B</td>\n",
       "    </tr>\n",
       "  </tbody>\n",
       "</table>\n",
       "</div>"
      ],
      "text/plain": [
       "     name  age   bio  chemistry  maths  total  percentage grades\n",
       "0   VINIT   22  70.0         45     60    175       58.33      B\n",
       "1    ANIL   21  91.0         30     52    173       57.67      B\n",
       "2    AMAN   20  60.0         50     56    166       55.33      B\n",
       "3  MAHESH   21  80.0         35     50    165       55.00      B"
      ]
     },
     "execution_count": 34,
     "metadata": {},
     "output_type": "execute_result"
    }
   ],
   "source": [
    "student_data"
   ]
  },
  {
   "cell_type": "code",
   "execution_count": 35,
   "id": "7c0a0dab",
   "metadata": {},
   "outputs": [
    {
     "data": {
      "text/html": [
       "<div>\n",
       "<style scoped>\n",
       "    .dataframe tbody tr th:only-of-type {\n",
       "        vertical-align: middle;\n",
       "    }\n",
       "\n",
       "    .dataframe tbody tr th {\n",
       "        vertical-align: top;\n",
       "    }\n",
       "\n",
       "    .dataframe thead th {\n",
       "        text-align: right;\n",
       "    }\n",
       "</style>\n",
       "<table border=\"1\" class=\"dataframe\">\n",
       "  <thead>\n",
       "    <tr style=\"text-align: right;\">\n",
       "      <th></th>\n",
       "      <th>name</th>\n",
       "      <th>age</th>\n",
       "      <th>bio</th>\n",
       "      <th>chemistry</th>\n",
       "      <th>maths</th>\n",
       "      <th>total</th>\n",
       "      <th>percentage</th>\n",
       "      <th>grades</th>\n",
       "    </tr>\n",
       "  </thead>\n",
       "  <tbody>\n",
       "    <tr>\n",
       "      <th>1</th>\n",
       "      <td>ANIL</td>\n",
       "      <td>21</td>\n",
       "      <td>91.0</td>\n",
       "      <td>30</td>\n",
       "      <td>52</td>\n",
       "      <td>173</td>\n",
       "      <td>57.67</td>\n",
       "      <td>B</td>\n",
       "    </tr>\n",
       "    <tr>\n",
       "      <th>3</th>\n",
       "      <td>MAHESH</td>\n",
       "      <td>21</td>\n",
       "      <td>80.0</td>\n",
       "      <td>35</td>\n",
       "      <td>50</td>\n",
       "      <td>165</td>\n",
       "      <td>55.00</td>\n",
       "      <td>B</td>\n",
       "    </tr>\n",
       "  </tbody>\n",
       "</table>\n",
       "</div>"
      ],
      "text/plain": [
       "     name  age   bio  chemistry  maths  total  percentage grades\n",
       "1    ANIL   21  91.0         30     52    173       57.67      B\n",
       "3  MAHESH   21  80.0         35     50    165       55.00      B"
      ]
     },
     "execution_count": 35,
     "metadata": {},
     "output_type": "execute_result"
    }
   ],
   "source": [
    "student_data.drop(student_data[student_data['maths']  > 55].index)"
   ]
  },
  {
   "cell_type": "code",
   "execution_count": 36,
   "id": "d499ae65",
   "metadata": {},
   "outputs": [
    {
     "data": {
      "text/plain": [
       "Index([], dtype='int64')"
      ]
     },
     "execution_count": 36,
     "metadata": {},
     "output_type": "execute_result"
    }
   ],
   "source": [
    "student_data[student_data['grades']  == 'F'].index"
   ]
  },
  {
   "cell_type": "code",
   "execution_count": 37,
   "id": "b9a0baa2",
   "metadata": {},
   "outputs": [],
   "source": [
    "# dataframe.loc[row_slicing , columns names]\n",
    "\n",
    "student_data.loc[1,  : : ]  = ['ANIL SHARMA', 22, 94, 40, 52, 175, 60, 'A' ]"
   ]
  },
  {
   "cell_type": "code",
   "execution_count": 38,
   "id": "e060e8c0",
   "metadata": {},
   "outputs": [],
   "source": [
    "student_data.loc[2:3, ['chemistry', 'maths', 'total']] = [[1,2, 3],[4, 5, 6]]"
   ]
  },
  {
   "cell_type": "code",
   "execution_count": 39,
   "id": "0f420983",
   "metadata": {},
   "outputs": [],
   "source": [
    "student_data.loc[student_data['total'] > 100, 'maths'] = [[50],[70]]"
   ]
  },
  {
   "cell_type": "code",
   "execution_count": 40,
   "id": "343a298d",
   "metadata": {},
   "outputs": [
    {
     "data": {
      "text/html": [
       "<div>\n",
       "<style scoped>\n",
       "    .dataframe tbody tr th:only-of-type {\n",
       "        vertical-align: middle;\n",
       "    }\n",
       "\n",
       "    .dataframe tbody tr th {\n",
       "        vertical-align: top;\n",
       "    }\n",
       "\n",
       "    .dataframe thead th {\n",
       "        text-align: right;\n",
       "    }\n",
       "</style>\n",
       "<table border=\"1\" class=\"dataframe\">\n",
       "  <thead>\n",
       "    <tr style=\"text-align: right;\">\n",
       "      <th></th>\n",
       "      <th>name</th>\n",
       "      <th>age</th>\n",
       "      <th>bio</th>\n",
       "      <th>chemistry</th>\n",
       "      <th>maths</th>\n",
       "      <th>total</th>\n",
       "      <th>percentage</th>\n",
       "      <th>grades</th>\n",
       "    </tr>\n",
       "  </thead>\n",
       "  <tbody>\n",
       "    <tr>\n",
       "      <th>0</th>\n",
       "      <td>VINIT</td>\n",
       "      <td>22</td>\n",
       "      <td>70.0</td>\n",
       "      <td>45</td>\n",
       "      <td>50</td>\n",
       "      <td>175</td>\n",
       "      <td>58.33</td>\n",
       "      <td>B</td>\n",
       "    </tr>\n",
       "    <tr>\n",
       "      <th>1</th>\n",
       "      <td>ANIL SHARMA</td>\n",
       "      <td>22</td>\n",
       "      <td>94.0</td>\n",
       "      <td>40</td>\n",
       "      <td>70</td>\n",
       "      <td>175</td>\n",
       "      <td>60.00</td>\n",
       "      <td>A</td>\n",
       "    </tr>\n",
       "    <tr>\n",
       "      <th>2</th>\n",
       "      <td>AMAN</td>\n",
       "      <td>20</td>\n",
       "      <td>60.0</td>\n",
       "      <td>1</td>\n",
       "      <td>2</td>\n",
       "      <td>3</td>\n",
       "      <td>55.33</td>\n",
       "      <td>B</td>\n",
       "    </tr>\n",
       "    <tr>\n",
       "      <th>3</th>\n",
       "      <td>MAHESH</td>\n",
       "      <td>21</td>\n",
       "      <td>80.0</td>\n",
       "      <td>4</td>\n",
       "      <td>5</td>\n",
       "      <td>6</td>\n",
       "      <td>55.00</td>\n",
       "      <td>B</td>\n",
       "    </tr>\n",
       "  </tbody>\n",
       "</table>\n",
       "</div>"
      ],
      "text/plain": [
       "          name  age   bio  chemistry  maths  total  percentage grades\n",
       "0        VINIT   22  70.0         45     50    175       58.33      B\n",
       "1  ANIL SHARMA   22  94.0         40     70    175       60.00      A\n",
       "2         AMAN   20  60.0          1      2      3       55.33      B\n",
       "3       MAHESH   21  80.0          4      5      6       55.00      B"
      ]
     },
     "execution_count": 40,
     "metadata": {},
     "output_type": "execute_result"
    }
   ],
   "source": [
    "student_data"
   ]
  },
  {
   "cell_type": "code",
   "execution_count": 41,
   "id": "47f06ee8",
   "metadata": {},
   "outputs": [
    {
     "data": {
      "text/html": [
       "<div>\n",
       "<style scoped>\n",
       "    .dataframe tbody tr th:only-of-type {\n",
       "        vertical-align: middle;\n",
       "    }\n",
       "\n",
       "    .dataframe tbody tr th {\n",
       "        vertical-align: top;\n",
       "    }\n",
       "\n",
       "    .dataframe thead th {\n",
       "        text-align: right;\n",
       "    }\n",
       "</style>\n",
       "<table border=\"1\" class=\"dataframe\">\n",
       "  <thead>\n",
       "    <tr style=\"text-align: right;\">\n",
       "      <th></th>\n",
       "      <th>percentage</th>\n",
       "      <th>grades</th>\n",
       "    </tr>\n",
       "  </thead>\n",
       "  <tbody>\n",
       "    <tr>\n",
       "      <th>0</th>\n",
       "      <td>58.33</td>\n",
       "      <td>B</td>\n",
       "    </tr>\n",
       "    <tr>\n",
       "      <th>1</th>\n",
       "      <td>60.00</td>\n",
       "      <td>A</td>\n",
       "    </tr>\n",
       "    <tr>\n",
       "      <th>2</th>\n",
       "      <td>55.33</td>\n",
       "      <td>B</td>\n",
       "    </tr>\n",
       "  </tbody>\n",
       "</table>\n",
       "</div>"
      ],
      "text/plain": [
       "   percentage grades\n",
       "0       58.33      B\n",
       "1       60.00      A\n",
       "2       55.33      B"
      ]
     },
     "execution_count": 41,
     "metadata": {},
     "output_type": "execute_result"
    }
   ],
   "source": [
    "student_data.iloc[ 0:3, -2 : : ]"
   ]
  },
  {
   "cell_type": "code",
   "execution_count": 42,
   "id": "45396ffb",
   "metadata": {},
   "outputs": [
    {
     "data": {
      "text/html": [
       "<div>\n",
       "<style scoped>\n",
       "    .dataframe tbody tr th:only-of-type {\n",
       "        vertical-align: middle;\n",
       "    }\n",
       "\n",
       "    .dataframe tbody tr th {\n",
       "        vertical-align: top;\n",
       "    }\n",
       "\n",
       "    .dataframe thead th {\n",
       "        text-align: right;\n",
       "    }\n",
       "</style>\n",
       "<table border=\"1\" class=\"dataframe\">\n",
       "  <thead>\n",
       "    <tr style=\"text-align: right;\">\n",
       "      <th></th>\n",
       "      <th>OrderID</th>\n",
       "      <th>Customer</th>\n",
       "      <th>TotalBill</th>\n",
       "    </tr>\n",
       "  </thead>\n",
       "  <tbody>\n",
       "    <tr>\n",
       "      <th>0</th>\n",
       "      <td>101</td>\n",
       "      <td>Zomato</td>\n",
       "      <td>250</td>\n",
       "    </tr>\n",
       "    <tr>\n",
       "      <th>1</th>\n",
       "      <td>102</td>\n",
       "      <td>Swiggy</td>\n",
       "      <td>300</td>\n",
       "    </tr>\n",
       "  </tbody>\n",
       "</table>\n",
       "</div>"
      ],
      "text/plain": [
       "   OrderID Customer  TotalBill\n",
       "0      101   Zomato        250\n",
       "1      102   Swiggy        300"
      ]
     },
     "execution_count": 42,
     "metadata": {},
     "output_type": "execute_result"
    }
   ],
   "source": [
    "df = pd.DataFrame({\n",
    "    'OrderID': [101, 102],\n",
    "    'Customer': ['Zomato', 'Swiggy'],\n",
    "    'TotalBill': [250, 300]\n",
    "})\n",
    "df"
   ]
  },
  {
   "cell_type": "code",
   "execution_count": 43,
   "id": "404fc7df",
   "metadata": {},
   "outputs": [],
   "source": [
    "df.loc[len(df)] = [103, 'Blinkit', 500]"
   ]
  },
  {
   "cell_type": "code",
   "execution_count": 44,
   "id": "0ce65578",
   "metadata": {},
   "outputs": [
    {
     "data": {
      "text/html": [
       "<div>\n",
       "<style scoped>\n",
       "    .dataframe tbody tr th:only-of-type {\n",
       "        vertical-align: middle;\n",
       "    }\n",
       "\n",
       "    .dataframe tbody tr th {\n",
       "        vertical-align: top;\n",
       "    }\n",
       "\n",
       "    .dataframe thead th {\n",
       "        text-align: right;\n",
       "    }\n",
       "</style>\n",
       "<table border=\"1\" class=\"dataframe\">\n",
       "  <thead>\n",
       "    <tr style=\"text-align: right;\">\n",
       "      <th></th>\n",
       "      <th>name</th>\n",
       "      <th>age</th>\n",
       "    </tr>\n",
       "  </thead>\n",
       "  <tbody>\n",
       "    <tr>\n",
       "      <th>0</th>\n",
       "      <td>a</td>\n",
       "      <td>20</td>\n",
       "    </tr>\n",
       "    <tr>\n",
       "      <th>1</th>\n",
       "      <td>b</td>\n",
       "      <td>21</td>\n",
       "    </tr>\n",
       "  </tbody>\n",
       "</table>\n",
       "</div>"
      ],
      "text/plain": [
       "  name  age\n",
       "0    a   20\n",
       "1    b   21"
      ]
     },
     "execution_count": 44,
     "metadata": {},
     "output_type": "execute_result"
    }
   ],
   "source": [
    "df1 = pd.DataFrame({\n",
    "    \"name\" : [\"a\", \"b\"], \n",
    "    \"age\"  : [20, 21]\n",
    "}\n",
    ")\n",
    "df1"
   ]
  },
  {
   "cell_type": "code",
   "execution_count": 45,
   "id": "29c9cc4e",
   "metadata": {},
   "outputs": [
    {
     "data": {
      "text/html": [
       "<div>\n",
       "<style scoped>\n",
       "    .dataframe tbody tr th:only-of-type {\n",
       "        vertical-align: middle;\n",
       "    }\n",
       "\n",
       "    .dataframe tbody tr th {\n",
       "        vertical-align: top;\n",
       "    }\n",
       "\n",
       "    .dataframe thead th {\n",
       "        text-align: right;\n",
       "    }\n",
       "</style>\n",
       "<table border=\"1\" class=\"dataframe\">\n",
       "  <thead>\n",
       "    <tr style=\"text-align: right;\">\n",
       "      <th></th>\n",
       "      <th>name</th>\n",
       "      <th>age</th>\n",
       "    </tr>\n",
       "  </thead>\n",
       "  <tbody>\n",
       "    <tr>\n",
       "      <th>0</th>\n",
       "      <td>c</td>\n",
       "      <td>22</td>\n",
       "    </tr>\n",
       "    <tr>\n",
       "      <th>1</th>\n",
       "      <td>d</td>\n",
       "      <td>23</td>\n",
       "    </tr>\n",
       "  </tbody>\n",
       "</table>\n",
       "</div>"
      ],
      "text/plain": [
       "  name  age\n",
       "0    c   22\n",
       "1    d   23"
      ]
     },
     "execution_count": 45,
     "metadata": {},
     "output_type": "execute_result"
    }
   ],
   "source": [
    "df2 = pd.DataFrame({\n",
    "    \"name\" : [\"c\", \"d\"], \n",
    "    \"age\"  : [22, 23]\n",
    "}\n",
    ")\n",
    "df2"
   ]
  },
  {
   "cell_type": "code",
   "execution_count": 46,
   "id": "5d1ad97f",
   "metadata": {},
   "outputs": [
    {
     "data": {
      "text/html": [
       "<div>\n",
       "<style scoped>\n",
       "    .dataframe tbody tr th:only-of-type {\n",
       "        vertical-align: middle;\n",
       "    }\n",
       "\n",
       "    .dataframe tbody tr th {\n",
       "        vertical-align: top;\n",
       "    }\n",
       "\n",
       "    .dataframe thead th {\n",
       "        text-align: right;\n",
       "    }\n",
       "</style>\n",
       "<table border=\"1\" class=\"dataframe\">\n",
       "  <thead>\n",
       "    <tr style=\"text-align: right;\">\n",
       "      <th></th>\n",
       "      <th>name</th>\n",
       "      <th>age</th>\n",
       "    </tr>\n",
       "  </thead>\n",
       "  <tbody>\n",
       "    <tr>\n",
       "      <th>0</th>\n",
       "      <td>a</td>\n",
       "      <td>20</td>\n",
       "    </tr>\n",
       "    <tr>\n",
       "      <th>1</th>\n",
       "      <td>b</td>\n",
       "      <td>21</td>\n",
       "    </tr>\n",
       "    <tr>\n",
       "      <th>2</th>\n",
       "      <td>c</td>\n",
       "      <td>22</td>\n",
       "    </tr>\n",
       "    <tr>\n",
       "      <th>3</th>\n",
       "      <td>d</td>\n",
       "      <td>23</td>\n",
       "    </tr>\n",
       "  </tbody>\n",
       "</table>\n",
       "</div>"
      ],
      "text/plain": [
       "  name  age\n",
       "0    a   20\n",
       "1    b   21\n",
       "2    c   22\n",
       "3    d   23"
      ]
     },
     "execution_count": 46,
     "metadata": {},
     "output_type": "execute_result"
    }
   ],
   "source": [
    "pd.concat([df1, df2], ignore_index= True)"
   ]
  },
  {
   "cell_type": "code",
   "execution_count": null,
   "id": "b895b484",
   "metadata": {},
   "outputs": [],
   "source": [
    "#how to do cleaning of dataset\n",
    "# Data Format \n",
    "# DROP DUPLICATES\n",
    "# HANLING MISSING VALUES (ROWS ONLY)  \n",
    "    # -> Drop the data (not good in case of small data)\n",
    "    # -> Fill the Data \n",
    "            #  categorical ->  mode , ffill , dfill\n",
    "            #  numerical   ->  mean , median , mode , ffill , dfill \n",
    "            #  fill the data with joining (if data is availanble but \n",
    "            #  somewhere else?) # DATA ANALYSIS\n",
    "             "
   ]
  },
  {
   "cell_type": "code",
   "execution_count": 48,
   "id": "964dfd6a",
   "metadata": {},
   "outputs": [],
   "source": [
    "df = pd.DataFrame({})"
   ]
  },
  {
   "cell_type": "code",
   "execution_count": null,
   "id": "69ac7d36",
   "metadata": {},
   "outputs": [],
   "source": [
    "#IDENTIFY MISSING DATA\n",
    "# df.isna().sum()\n",
    "\n",
    "\n",
    "# IDENTIFY DUPLICATEDS\n",
    "# df.duplicated()"
   ]
  },
  {
   "cell_type": "code",
   "execution_count": null,
   "id": "6173de03",
   "metadata": {},
   "outputs": [
    {
     "data": {
      "text/html": [
       "<div>\n",
       "<style scoped>\n",
       "    .dataframe tbody tr th:only-of-type {\n",
       "        vertical-align: middle;\n",
       "    }\n",
       "\n",
       "    .dataframe tbody tr th {\n",
       "        vertical-align: top;\n",
       "    }\n",
       "\n",
       "    .dataframe thead th {\n",
       "        text-align: right;\n",
       "    }\n",
       "</style>\n",
       "<table border=\"1\" class=\"dataframe\">\n",
       "  <thead>\n",
       "    <tr style=\"text-align: right;\">\n",
       "      <th></th>\n",
       "    </tr>\n",
       "  </thead>\n",
       "  <tbody>\n",
       "  </tbody>\n",
       "</table>\n",
       "</div>"
      ],
      "text/plain": [
       "Empty DataFrame\n",
       "Columns: []\n",
       "Index: []"
      ]
     },
     "execution_count": 50,
     "metadata": {},
     "output_type": "execute_result"
    }
   ],
   "source": [
    "df.dropna()\n",
    "df.fillna()\n",
    "df.drop()\n",
    "df.drop_duplicates()"
   ]
  },
  {
   "cell_type": "code",
   "execution_count": 59,
   "id": "76e907cd",
   "metadata": {},
   "outputs": [],
   "source": [
    "data = {\n",
    "    'product_id': [101, 102, 103, 101, 104, 105, 102, 106, 107, 108],\n",
    "    'product_name': [\n",
    "        'LED TV', 'Laptop', 'Wireless Mouse', 'LED TV', 'Smartphone', \n",
    "        'Bluetooth Speaker', 'Laptop', 'Tablet', 'Smartwatch', 'Gaming Console'\n",
    "    ],\n",
    "    'price': [45000, 60000, 1200, 45000, np.nan, 2500, 61000, 15000, 9999, None],\n",
    "    'category': [\n",
    "        'Electronics', 'Electronics', 'Accessories', 'Electronics', \n",
    "        'Electronics', 'Audio', 'Electronics', 'Electronics', None, 'Gaming'\n",
    "    ],\n",
    "    'date_added': [\n",
    "        '2024-01-15', '2024-01-20', '2024-02-10', '2024-01-15',\n",
    "        '2024-03-01', '2024-03-10', '2024-01-20', '2024-04-05',\n",
    "        None, '2024-05-12'\n",
    "    ]\n",
    "}\n",
    "\n",
    "df = pd.DataFrame(data)\n",
    "\n",
    "# Convert date_added to datetime format\n",
    "df['date_added'] = pd.to_datetime(df['date_added'])"
   ]
  },
  {
   "cell_type": "code",
   "execution_count": 60,
   "id": "1dba04e0",
   "metadata": {},
   "outputs": [
    {
     "data": {
      "text/html": [
       "<div>\n",
       "<style scoped>\n",
       "    .dataframe tbody tr th:only-of-type {\n",
       "        vertical-align: middle;\n",
       "    }\n",
       "\n",
       "    .dataframe tbody tr th {\n",
       "        vertical-align: top;\n",
       "    }\n",
       "\n",
       "    .dataframe thead th {\n",
       "        text-align: right;\n",
       "    }\n",
       "</style>\n",
       "<table border=\"1\" class=\"dataframe\">\n",
       "  <thead>\n",
       "    <tr style=\"text-align: right;\">\n",
       "      <th></th>\n",
       "      <th>product_id</th>\n",
       "      <th>product_name</th>\n",
       "      <th>price</th>\n",
       "      <th>category</th>\n",
       "      <th>date_added</th>\n",
       "    </tr>\n",
       "  </thead>\n",
       "  <tbody>\n",
       "    <tr>\n",
       "      <th>0</th>\n",
       "      <td>101</td>\n",
       "      <td>LED TV</td>\n",
       "      <td>45000.0</td>\n",
       "      <td>Electronics</td>\n",
       "      <td>2024-01-15</td>\n",
       "    </tr>\n",
       "    <tr>\n",
       "      <th>1</th>\n",
       "      <td>102</td>\n",
       "      <td>Laptop</td>\n",
       "      <td>60000.0</td>\n",
       "      <td>Electronics</td>\n",
       "      <td>2024-01-20</td>\n",
       "    </tr>\n",
       "    <tr>\n",
       "      <th>2</th>\n",
       "      <td>103</td>\n",
       "      <td>Wireless Mouse</td>\n",
       "      <td>1200.0</td>\n",
       "      <td>Accessories</td>\n",
       "      <td>2024-02-10</td>\n",
       "    </tr>\n",
       "    <tr>\n",
       "      <th>3</th>\n",
       "      <td>101</td>\n",
       "      <td>LED TV</td>\n",
       "      <td>45000.0</td>\n",
       "      <td>Electronics</td>\n",
       "      <td>2024-01-15</td>\n",
       "    </tr>\n",
       "    <tr>\n",
       "      <th>4</th>\n",
       "      <td>104</td>\n",
       "      <td>Smartphone</td>\n",
       "      <td>NaN</td>\n",
       "      <td>Electronics</td>\n",
       "      <td>2024-03-01</td>\n",
       "    </tr>\n",
       "    <tr>\n",
       "      <th>5</th>\n",
       "      <td>105</td>\n",
       "      <td>Bluetooth Speaker</td>\n",
       "      <td>2500.0</td>\n",
       "      <td>Audio</td>\n",
       "      <td>2024-03-10</td>\n",
       "    </tr>\n",
       "    <tr>\n",
       "      <th>6</th>\n",
       "      <td>102</td>\n",
       "      <td>Laptop</td>\n",
       "      <td>61000.0</td>\n",
       "      <td>Electronics</td>\n",
       "      <td>2024-01-20</td>\n",
       "    </tr>\n",
       "    <tr>\n",
       "      <th>7</th>\n",
       "      <td>106</td>\n",
       "      <td>Tablet</td>\n",
       "      <td>15000.0</td>\n",
       "      <td>Electronics</td>\n",
       "      <td>2024-04-05</td>\n",
       "    </tr>\n",
       "    <tr>\n",
       "      <th>8</th>\n",
       "      <td>107</td>\n",
       "      <td>Smartwatch</td>\n",
       "      <td>9999.0</td>\n",
       "      <td>None</td>\n",
       "      <td>NaT</td>\n",
       "    </tr>\n",
       "    <tr>\n",
       "      <th>9</th>\n",
       "      <td>108</td>\n",
       "      <td>Gaming Console</td>\n",
       "      <td>NaN</td>\n",
       "      <td>Gaming</td>\n",
       "      <td>2024-05-12</td>\n",
       "    </tr>\n",
       "  </tbody>\n",
       "</table>\n",
       "</div>"
      ],
      "text/plain": [
       "   product_id       product_name    price     category date_added\n",
       "0         101             LED TV  45000.0  Electronics 2024-01-15\n",
       "1         102             Laptop  60000.0  Electronics 2024-01-20\n",
       "2         103     Wireless Mouse   1200.0  Accessories 2024-02-10\n",
       "3         101             LED TV  45000.0  Electronics 2024-01-15\n",
       "4         104         Smartphone      NaN  Electronics 2024-03-01\n",
       "5         105  Bluetooth Speaker   2500.0        Audio 2024-03-10\n",
       "6         102             Laptop  61000.0  Electronics 2024-01-20\n",
       "7         106             Tablet  15000.0  Electronics 2024-04-05\n",
       "8         107         Smartwatch   9999.0         None        NaT\n",
       "9         108     Gaming Console      NaN       Gaming 2024-05-12"
      ]
     },
     "execution_count": 60,
     "metadata": {},
     "output_type": "execute_result"
    }
   ],
   "source": [
    "df"
   ]
  },
  {
   "cell_type": "code",
   "execution_count": 61,
   "id": "47b20f0e",
   "metadata": {},
   "outputs": [],
   "source": [
    "df['day']     = df['date_added'].dt.day\n",
    "df['month']   = df['date_added'].dt.month\n",
    "df['year']    = df['date_added'].dt.year\n",
    "df['quarter'] = df['date_added'].dt.quarter\n",
    "df['weekday'] = df['date_added'].dt.day_name()  # e.g., 'Monday'"
   ]
  },
  {
   "cell_type": "code",
   "execution_count": 63,
   "id": "b3cb0e19",
   "metadata": {},
   "outputs": [],
   "source": [
    "df['date_verbose'] = df['date_added'].dt.strftime('%A, %d %B %Y')"
   ]
  },
  {
   "cell_type": "code",
   "execution_count": 66,
   "id": "229179e0",
   "metadata": {},
   "outputs": [],
   "source": [
    "df['product_name'] = df['product_name'].str.upper()"
   ]
  },
  {
   "cell_type": "code",
   "execution_count": 67,
   "id": "3f7c38c3",
   "metadata": {},
   "outputs": [
    {
     "data": {
      "text/html": [
       "<div>\n",
       "<style scoped>\n",
       "    .dataframe tbody tr th:only-of-type {\n",
       "        vertical-align: middle;\n",
       "    }\n",
       "\n",
       "    .dataframe tbody tr th {\n",
       "        vertical-align: top;\n",
       "    }\n",
       "\n",
       "    .dataframe thead th {\n",
       "        text-align: right;\n",
       "    }\n",
       "</style>\n",
       "<table border=\"1\" class=\"dataframe\">\n",
       "  <thead>\n",
       "    <tr style=\"text-align: right;\">\n",
       "      <th></th>\n",
       "      <th>product_id</th>\n",
       "      <th>product_name</th>\n",
       "      <th>price</th>\n",
       "      <th>category</th>\n",
       "      <th>date_added</th>\n",
       "      <th>day</th>\n",
       "      <th>month</th>\n",
       "      <th>year</th>\n",
       "      <th>quarter</th>\n",
       "      <th>weekday</th>\n",
       "      <th>date_verbose</th>\n",
       "    </tr>\n",
       "  </thead>\n",
       "  <tbody>\n",
       "    <tr>\n",
       "      <th>0</th>\n",
       "      <td>101</td>\n",
       "      <td>LED TV</td>\n",
       "      <td>45000.0</td>\n",
       "      <td>Electronics</td>\n",
       "      <td>2024-01-15</td>\n",
       "      <td>15.0</td>\n",
       "      <td>1.0</td>\n",
       "      <td>2024.0</td>\n",
       "      <td>1.0</td>\n",
       "      <td>Monday</td>\n",
       "      <td>Monday, 15 January 2024</td>\n",
       "    </tr>\n",
       "    <tr>\n",
       "      <th>1</th>\n",
       "      <td>102</td>\n",
       "      <td>LAPTOP</td>\n",
       "      <td>60000.0</td>\n",
       "      <td>Electronics</td>\n",
       "      <td>2024-01-20</td>\n",
       "      <td>20.0</td>\n",
       "      <td>1.0</td>\n",
       "      <td>2024.0</td>\n",
       "      <td>1.0</td>\n",
       "      <td>Saturday</td>\n",
       "      <td>Saturday, 20 January 2024</td>\n",
       "    </tr>\n",
       "    <tr>\n",
       "      <th>2</th>\n",
       "      <td>103</td>\n",
       "      <td>WIRELESS MOUSE</td>\n",
       "      <td>1200.0</td>\n",
       "      <td>Accessories</td>\n",
       "      <td>2024-02-10</td>\n",
       "      <td>10.0</td>\n",
       "      <td>2.0</td>\n",
       "      <td>2024.0</td>\n",
       "      <td>1.0</td>\n",
       "      <td>Saturday</td>\n",
       "      <td>Saturday, 10 February 2024</td>\n",
       "    </tr>\n",
       "    <tr>\n",
       "      <th>3</th>\n",
       "      <td>101</td>\n",
       "      <td>LED TV</td>\n",
       "      <td>45000.0</td>\n",
       "      <td>Electronics</td>\n",
       "      <td>2024-01-15</td>\n",
       "      <td>15.0</td>\n",
       "      <td>1.0</td>\n",
       "      <td>2024.0</td>\n",
       "      <td>1.0</td>\n",
       "      <td>Monday</td>\n",
       "      <td>Monday, 15 January 2024</td>\n",
       "    </tr>\n",
       "    <tr>\n",
       "      <th>4</th>\n",
       "      <td>104</td>\n",
       "      <td>SMARTPHONE</td>\n",
       "      <td>NaN</td>\n",
       "      <td>Electronics</td>\n",
       "      <td>2024-03-01</td>\n",
       "      <td>1.0</td>\n",
       "      <td>3.0</td>\n",
       "      <td>2024.0</td>\n",
       "      <td>1.0</td>\n",
       "      <td>Friday</td>\n",
       "      <td>Friday, 01 March 2024</td>\n",
       "    </tr>\n",
       "    <tr>\n",
       "      <th>5</th>\n",
       "      <td>105</td>\n",
       "      <td>BLUETOOTH SPEAKER</td>\n",
       "      <td>2500.0</td>\n",
       "      <td>Audio</td>\n",
       "      <td>2024-03-10</td>\n",
       "      <td>10.0</td>\n",
       "      <td>3.0</td>\n",
       "      <td>2024.0</td>\n",
       "      <td>1.0</td>\n",
       "      <td>Sunday</td>\n",
       "      <td>Sunday, 10 March 2024</td>\n",
       "    </tr>\n",
       "    <tr>\n",
       "      <th>6</th>\n",
       "      <td>102</td>\n",
       "      <td>LAPTOP</td>\n",
       "      <td>61000.0</td>\n",
       "      <td>Electronics</td>\n",
       "      <td>2024-01-20</td>\n",
       "      <td>20.0</td>\n",
       "      <td>1.0</td>\n",
       "      <td>2024.0</td>\n",
       "      <td>1.0</td>\n",
       "      <td>Saturday</td>\n",
       "      <td>Saturday, 20 January 2024</td>\n",
       "    </tr>\n",
       "    <tr>\n",
       "      <th>7</th>\n",
       "      <td>106</td>\n",
       "      <td>TABLET</td>\n",
       "      <td>15000.0</td>\n",
       "      <td>Electronics</td>\n",
       "      <td>2024-04-05</td>\n",
       "      <td>5.0</td>\n",
       "      <td>4.0</td>\n",
       "      <td>2024.0</td>\n",
       "      <td>2.0</td>\n",
       "      <td>Friday</td>\n",
       "      <td>Friday, 05 April 2024</td>\n",
       "    </tr>\n",
       "    <tr>\n",
       "      <th>8</th>\n",
       "      <td>107</td>\n",
       "      <td>SMARTWATCH</td>\n",
       "      <td>9999.0</td>\n",
       "      <td>None</td>\n",
       "      <td>NaT</td>\n",
       "      <td>NaN</td>\n",
       "      <td>NaN</td>\n",
       "      <td>NaN</td>\n",
       "      <td>NaN</td>\n",
       "      <td>NaN</td>\n",
       "      <td>NaN</td>\n",
       "    </tr>\n",
       "    <tr>\n",
       "      <th>9</th>\n",
       "      <td>108</td>\n",
       "      <td>GAMING CONSOLE</td>\n",
       "      <td>NaN</td>\n",
       "      <td>Gaming</td>\n",
       "      <td>2024-05-12</td>\n",
       "      <td>12.0</td>\n",
       "      <td>5.0</td>\n",
       "      <td>2024.0</td>\n",
       "      <td>2.0</td>\n",
       "      <td>Sunday</td>\n",
       "      <td>Sunday, 12 May 2024</td>\n",
       "    </tr>\n",
       "  </tbody>\n",
       "</table>\n",
       "</div>"
      ],
      "text/plain": [
       "   product_id       product_name    price     category date_added   day  \\\n",
       "0         101             LED TV  45000.0  Electronics 2024-01-15  15.0   \n",
       "1         102             LAPTOP  60000.0  Electronics 2024-01-20  20.0   \n",
       "2         103     WIRELESS MOUSE   1200.0  Accessories 2024-02-10  10.0   \n",
       "3         101             LED TV  45000.0  Electronics 2024-01-15  15.0   \n",
       "4         104         SMARTPHONE      NaN  Electronics 2024-03-01   1.0   \n",
       "5         105  BLUETOOTH SPEAKER   2500.0        Audio 2024-03-10  10.0   \n",
       "6         102             LAPTOP  61000.0  Electronics 2024-01-20  20.0   \n",
       "7         106             TABLET  15000.0  Electronics 2024-04-05   5.0   \n",
       "8         107         SMARTWATCH   9999.0         None        NaT   NaN   \n",
       "9         108     GAMING CONSOLE      NaN       Gaming 2024-05-12  12.0   \n",
       "\n",
       "   month    year  quarter   weekday                date_verbose  \n",
       "0    1.0  2024.0      1.0    Monday     Monday, 15 January 2024  \n",
       "1    1.0  2024.0      1.0  Saturday   Saturday, 20 January 2024  \n",
       "2    2.0  2024.0      1.0  Saturday  Saturday, 10 February 2024  \n",
       "3    1.0  2024.0      1.0    Monday     Monday, 15 January 2024  \n",
       "4    3.0  2024.0      1.0    Friday       Friday, 01 March 2024  \n",
       "5    3.0  2024.0      1.0    Sunday       Sunday, 10 March 2024  \n",
       "6    1.0  2024.0      1.0  Saturday   Saturday, 20 January 2024  \n",
       "7    4.0  2024.0      2.0    Friday       Friday, 05 April 2024  \n",
       "8    NaN     NaN      NaN       NaN                         NaN  \n",
       "9    5.0  2024.0      2.0    Sunday         Sunday, 12 May 2024  "
      ]
     },
     "execution_count": 67,
     "metadata": {},
     "output_type": "execute_result"
    }
   ],
   "source": [
    "df"
   ]
  },
  {
   "cell_type": "code",
   "execution_count": null,
   "id": "ba7a002a",
   "metadata": {},
   "outputs": [
    {
     "data": {
      "text/plain": [
       "product_id      0\n",
       "product_name    0\n",
       "price           2\n",
       "category        1\n",
       "date_added      1\n",
       "day             1\n",
       "month           1\n",
       "year            1\n",
       "quarter         1\n",
       "weekday         1\n",
       "date_verbose    1\n",
       "dtype: int64"
      ]
     },
     "execution_count": 102,
     "metadata": {},
     "output_type": "execute_result"
    }
   ],
   "source": [
    "df.isna().sum()  # idenfify missing data"
   ]
  },
  {
   "cell_type": "code",
   "execution_count": 107,
   "id": "ddd92dbc",
   "metadata": {},
   "outputs": [
    {
     "data": {
      "text/plain": [
       "2"
      ]
     },
     "execution_count": 107,
     "metadata": {},
     "output_type": "execute_result"
    }
   ],
   "source": [
    "len(df[df.duplicated(subset=['product_id'])])"
   ]
  },
  {
   "cell_type": "code",
   "execution_count": 115,
   "id": "c5036ab9",
   "metadata": {},
   "outputs": [],
   "source": [
    "df.drop_duplicates(subset=['product_id'], ignore_index= True, inplace= True)"
   ]
  },
  {
   "cell_type": "code",
   "execution_count": 116,
   "id": "0a9ed1a7",
   "metadata": {},
   "outputs": [
    {
     "data": {
      "text/html": [
       "<div>\n",
       "<style scoped>\n",
       "    .dataframe tbody tr th:only-of-type {\n",
       "        vertical-align: middle;\n",
       "    }\n",
       "\n",
       "    .dataframe tbody tr th {\n",
       "        vertical-align: top;\n",
       "    }\n",
       "\n",
       "    .dataframe thead th {\n",
       "        text-align: right;\n",
       "    }\n",
       "</style>\n",
       "<table border=\"1\" class=\"dataframe\">\n",
       "  <thead>\n",
       "    <tr style=\"text-align: right;\">\n",
       "      <th></th>\n",
       "      <th>product_id</th>\n",
       "      <th>product_name</th>\n",
       "      <th>price</th>\n",
       "      <th>category</th>\n",
       "      <th>date_added</th>\n",
       "      <th>day</th>\n",
       "      <th>month</th>\n",
       "      <th>year</th>\n",
       "      <th>quarter</th>\n",
       "      <th>weekday</th>\n",
       "      <th>date_verbose</th>\n",
       "    </tr>\n",
       "  </thead>\n",
       "  <tbody>\n",
       "    <tr>\n",
       "      <th>0</th>\n",
       "      <td>101</td>\n",
       "      <td>LED TV</td>\n",
       "      <td>45000.0</td>\n",
       "      <td>Electronics</td>\n",
       "      <td>2024-01-15</td>\n",
       "      <td>15.0</td>\n",
       "      <td>1.0</td>\n",
       "      <td>2024.0</td>\n",
       "      <td>1.0</td>\n",
       "      <td>Monday</td>\n",
       "      <td>Monday, 15 January 2024</td>\n",
       "    </tr>\n",
       "    <tr>\n",
       "      <th>1</th>\n",
       "      <td>102</td>\n",
       "      <td>LAPTOP</td>\n",
       "      <td>60000.0</td>\n",
       "      <td>Electronics</td>\n",
       "      <td>2024-01-20</td>\n",
       "      <td>20.0</td>\n",
       "      <td>1.0</td>\n",
       "      <td>2024.0</td>\n",
       "      <td>1.0</td>\n",
       "      <td>Saturday</td>\n",
       "      <td>Saturday, 20 January 2024</td>\n",
       "    </tr>\n",
       "    <tr>\n",
       "      <th>2</th>\n",
       "      <td>103</td>\n",
       "      <td>WIRELESS MOUSE</td>\n",
       "      <td>1200.0</td>\n",
       "      <td>Accessories</td>\n",
       "      <td>2024-02-10</td>\n",
       "      <td>10.0</td>\n",
       "      <td>2.0</td>\n",
       "      <td>2024.0</td>\n",
       "      <td>1.0</td>\n",
       "      <td>Saturday</td>\n",
       "      <td>Saturday, 10 February 2024</td>\n",
       "    </tr>\n",
       "    <tr>\n",
       "      <th>3</th>\n",
       "      <td>104</td>\n",
       "      <td>SMARTPHONE</td>\n",
       "      <td>NaN</td>\n",
       "      <td>Electronics</td>\n",
       "      <td>2024-03-01</td>\n",
       "      <td>1.0</td>\n",
       "      <td>3.0</td>\n",
       "      <td>2024.0</td>\n",
       "      <td>1.0</td>\n",
       "      <td>Friday</td>\n",
       "      <td>Friday, 01 March 2024</td>\n",
       "    </tr>\n",
       "    <tr>\n",
       "      <th>4</th>\n",
       "      <td>105</td>\n",
       "      <td>BLUETOOTH SPEAKER</td>\n",
       "      <td>2500.0</td>\n",
       "      <td>Audio</td>\n",
       "      <td>2024-03-10</td>\n",
       "      <td>10.0</td>\n",
       "      <td>3.0</td>\n",
       "      <td>2024.0</td>\n",
       "      <td>1.0</td>\n",
       "      <td>Sunday</td>\n",
       "      <td>Sunday, 10 March 2024</td>\n",
       "    </tr>\n",
       "    <tr>\n",
       "      <th>5</th>\n",
       "      <td>106</td>\n",
       "      <td>TABLET</td>\n",
       "      <td>15000.0</td>\n",
       "      <td>Electronics</td>\n",
       "      <td>2024-04-05</td>\n",
       "      <td>5.0</td>\n",
       "      <td>4.0</td>\n",
       "      <td>2024.0</td>\n",
       "      <td>2.0</td>\n",
       "      <td>Friday</td>\n",
       "      <td>Friday, 05 April 2024</td>\n",
       "    </tr>\n",
       "    <tr>\n",
       "      <th>6</th>\n",
       "      <td>107</td>\n",
       "      <td>SMARTWATCH</td>\n",
       "      <td>9999.0</td>\n",
       "      <td>None</td>\n",
       "      <td>NaT</td>\n",
       "      <td>NaN</td>\n",
       "      <td>NaN</td>\n",
       "      <td>NaN</td>\n",
       "      <td>NaN</td>\n",
       "      <td>NaN</td>\n",
       "      <td>NaN</td>\n",
       "    </tr>\n",
       "    <tr>\n",
       "      <th>7</th>\n",
       "      <td>108</td>\n",
       "      <td>GAMING CONSOLE</td>\n",
       "      <td>NaN</td>\n",
       "      <td>Gaming</td>\n",
       "      <td>2024-05-12</td>\n",
       "      <td>12.0</td>\n",
       "      <td>5.0</td>\n",
       "      <td>2024.0</td>\n",
       "      <td>2.0</td>\n",
       "      <td>Sunday</td>\n",
       "      <td>Sunday, 12 May 2024</td>\n",
       "    </tr>\n",
       "  </tbody>\n",
       "</table>\n",
       "</div>"
      ],
      "text/plain": [
       "   product_id       product_name    price     category date_added   day  \\\n",
       "0         101             LED TV  45000.0  Electronics 2024-01-15  15.0   \n",
       "1         102             LAPTOP  60000.0  Electronics 2024-01-20  20.0   \n",
       "2         103     WIRELESS MOUSE   1200.0  Accessories 2024-02-10  10.0   \n",
       "3         104         SMARTPHONE      NaN  Electronics 2024-03-01   1.0   \n",
       "4         105  BLUETOOTH SPEAKER   2500.0        Audio 2024-03-10  10.0   \n",
       "5         106             TABLET  15000.0  Electronics 2024-04-05   5.0   \n",
       "6         107         SMARTWATCH   9999.0         None        NaT   NaN   \n",
       "7         108     GAMING CONSOLE      NaN       Gaming 2024-05-12  12.0   \n",
       "\n",
       "   month    year  quarter   weekday                date_verbose  \n",
       "0    1.0  2024.0      1.0    Monday     Monday, 15 January 2024  \n",
       "1    1.0  2024.0      1.0  Saturday   Saturday, 20 January 2024  \n",
       "2    2.0  2024.0      1.0  Saturday  Saturday, 10 February 2024  \n",
       "3    3.0  2024.0      1.0    Friday       Friday, 01 March 2024  \n",
       "4    3.0  2024.0      1.0    Sunday       Sunday, 10 March 2024  \n",
       "5    4.0  2024.0      2.0    Friday       Friday, 05 April 2024  \n",
       "6    NaN     NaN      NaN       NaN                         NaN  \n",
       "7    5.0  2024.0      2.0    Sunday         Sunday, 12 May 2024  "
      ]
     },
     "execution_count": 116,
     "metadata": {},
     "output_type": "execute_result"
    }
   ],
   "source": [
    "df"
   ]
  },
  {
   "cell_type": "code",
   "execution_count": null,
   "id": "6948273b",
   "metadata": {},
   "outputs": [],
   "source": []
  },
  {
   "cell_type": "code",
   "execution_count": 154,
   "id": "064d5b4b",
   "metadata": {},
   "outputs": [
    {
     "data": {
      "text/html": [
       "<div>\n",
       "<style scoped>\n",
       "    .dataframe tbody tr th:only-of-type {\n",
       "        vertical-align: middle;\n",
       "    }\n",
       "\n",
       "    .dataframe tbody tr th {\n",
       "        vertical-align: top;\n",
       "    }\n",
       "\n",
       "    .dataframe thead th {\n",
       "        text-align: right;\n",
       "    }\n",
       "</style>\n",
       "<table border=\"1\" class=\"dataframe\">\n",
       "  <thead>\n",
       "    <tr style=\"text-align: right;\">\n",
       "      <th></th>\n",
       "      <th>product_id</th>\n",
       "      <th>product_name</th>\n",
       "      <th>price</th>\n",
       "      <th>category</th>\n",
       "      <th>date_added</th>\n",
       "      <th>day</th>\n",
       "      <th>month</th>\n",
       "      <th>year</th>\n",
       "      <th>quarter</th>\n",
       "      <th>weekday</th>\n",
       "      <th>date_verbose</th>\n",
       "    </tr>\n",
       "  </thead>\n",
       "  <tbody>\n",
       "    <tr>\n",
       "      <th>0</th>\n",
       "      <td>101</td>\n",
       "      <td>LED TV</td>\n",
       "      <td>45000.000000</td>\n",
       "      <td>Electronics</td>\n",
       "      <td>2024-01-15</td>\n",
       "      <td>15.0</td>\n",
       "      <td>1.0</td>\n",
       "      <td>2024.0</td>\n",
       "      <td>1.0</td>\n",
       "      <td>Monday</td>\n",
       "      <td>Monday, 15 January 2024</td>\n",
       "    </tr>\n",
       "    <tr>\n",
       "      <th>1</th>\n",
       "      <td>102</td>\n",
       "      <td>LAPTOP</td>\n",
       "      <td>60000.000000</td>\n",
       "      <td>Electronics</td>\n",
       "      <td>2024-01-20</td>\n",
       "      <td>20.0</td>\n",
       "      <td>1.0</td>\n",
       "      <td>2024.0</td>\n",
       "      <td>1.0</td>\n",
       "      <td>Saturday</td>\n",
       "      <td>Saturday, 20 January 2024</td>\n",
       "    </tr>\n",
       "    <tr>\n",
       "      <th>2</th>\n",
       "      <td>103</td>\n",
       "      <td>WIRELESS MOUSE</td>\n",
       "      <td>1200.000000</td>\n",
       "      <td>Accessories</td>\n",
       "      <td>2024-02-10</td>\n",
       "      <td>10.0</td>\n",
       "      <td>2.0</td>\n",
       "      <td>2024.0</td>\n",
       "      <td>1.0</td>\n",
       "      <td>Saturday</td>\n",
       "      <td>Saturday, 10 February 2024</td>\n",
       "    </tr>\n",
       "    <tr>\n",
       "      <th>3</th>\n",
       "      <td>104</td>\n",
       "      <td>SMARTPHONE</td>\n",
       "      <td>22283.166667</td>\n",
       "      <td>Electronics</td>\n",
       "      <td>2024-03-01</td>\n",
       "      <td>1.0</td>\n",
       "      <td>3.0</td>\n",
       "      <td>2024.0</td>\n",
       "      <td>1.0</td>\n",
       "      <td>Friday</td>\n",
       "      <td>Friday, 01 March 2024</td>\n",
       "    </tr>\n",
       "    <tr>\n",
       "      <th>4</th>\n",
       "      <td>105</td>\n",
       "      <td>BLUETOOTH SPEAKER</td>\n",
       "      <td>2500.000000</td>\n",
       "      <td>Audio</td>\n",
       "      <td>2024-03-10</td>\n",
       "      <td>10.0</td>\n",
       "      <td>3.0</td>\n",
       "      <td>2024.0</td>\n",
       "      <td>1.0</td>\n",
       "      <td>Sunday</td>\n",
       "      <td>Sunday, 10 March 2024</td>\n",
       "    </tr>\n",
       "    <tr>\n",
       "      <th>5</th>\n",
       "      <td>106</td>\n",
       "      <td>TABLET</td>\n",
       "      <td>15000.000000</td>\n",
       "      <td>Electronics</td>\n",
       "      <td>2024-04-05</td>\n",
       "      <td>5.0</td>\n",
       "      <td>4.0</td>\n",
       "      <td>2024.0</td>\n",
       "      <td>2.0</td>\n",
       "      <td>Friday</td>\n",
       "      <td>Friday, 05 April 2024</td>\n",
       "    </tr>\n",
       "    <tr>\n",
       "      <th>6</th>\n",
       "      <td>107</td>\n",
       "      <td>SMARTWATCH</td>\n",
       "      <td>9999.000000</td>\n",
       "      <td>Electronics</td>\n",
       "      <td>2024-05-12</td>\n",
       "      <td>NaN</td>\n",
       "      <td>NaN</td>\n",
       "      <td>NaN</td>\n",
       "      <td>NaN</td>\n",
       "      <td>NaN</td>\n",
       "      <td>NaN</td>\n",
       "    </tr>\n",
       "    <tr>\n",
       "      <th>7</th>\n",
       "      <td>108</td>\n",
       "      <td>GAMING CONSOLE</td>\n",
       "      <td>22283.166667</td>\n",
       "      <td>Gaming</td>\n",
       "      <td>2024-05-12</td>\n",
       "      <td>12.0</td>\n",
       "      <td>5.0</td>\n",
       "      <td>2024.0</td>\n",
       "      <td>2.0</td>\n",
       "      <td>Sunday</td>\n",
       "      <td>Sunday, 12 May 2024</td>\n",
       "    </tr>\n",
       "  </tbody>\n",
       "</table>\n",
       "</div>"
      ],
      "text/plain": [
       "   product_id       product_name         price     category date_added   day  \\\n",
       "0         101             LED TV  45000.000000  Electronics 2024-01-15  15.0   \n",
       "1         102             LAPTOP  60000.000000  Electronics 2024-01-20  20.0   \n",
       "2         103     WIRELESS MOUSE   1200.000000  Accessories 2024-02-10  10.0   \n",
       "3         104         SMARTPHONE  22283.166667  Electronics 2024-03-01   1.0   \n",
       "4         105  BLUETOOTH SPEAKER   2500.000000        Audio 2024-03-10  10.0   \n",
       "5         106             TABLET  15000.000000  Electronics 2024-04-05   5.0   \n",
       "6         107         SMARTWATCH   9999.000000  Electronics 2024-05-12   NaN   \n",
       "7         108     GAMING CONSOLE  22283.166667       Gaming 2024-05-12  12.0   \n",
       "\n",
       "   month    year  quarter   weekday                date_verbose  \n",
       "0    1.0  2024.0      1.0    Monday     Monday, 15 January 2024  \n",
       "1    1.0  2024.0      1.0  Saturday   Saturday, 20 January 2024  \n",
       "2    2.0  2024.0      1.0  Saturday  Saturday, 10 February 2024  \n",
       "3    3.0  2024.0      1.0    Friday       Friday, 01 March 2024  \n",
       "4    3.0  2024.0      1.0    Sunday       Sunday, 10 March 2024  \n",
       "5    4.0  2024.0      2.0    Friday       Friday, 05 April 2024  \n",
       "6    NaN     NaN      NaN       NaN                         NaN  \n",
       "7    5.0  2024.0      2.0    Sunday         Sunday, 12 May 2024  "
      ]
     },
     "execution_count": 154,
     "metadata": {},
     "output_type": "execute_result"
    }
   ],
   "source": [
    "df"
   ]
  },
  {
   "cell_type": "code",
   "execution_count": 153,
   "id": "183d3c6f",
   "metadata": {},
   "outputs": [
    {
     "name": "stderr",
     "output_type": "stream",
     "text": [
      "C:\\Users\\bhawa\\AppData\\Local\\Temp\\ipykernel_6372\\1880955649.py:1: FutureWarning: Series.fillna with 'method' is deprecated and will raise in a future version. Use obj.ffill() or obj.bfill() instead.\n",
      "  df['date_added'].fillna(method = 'bfill', inplace= True)\n"
     ]
    }
   ],
   "source": [
    "df['date_added'].fillna(method = 'bfill', inplace= True)"
   ]
  },
  {
   "cell_type": "code",
   "execution_count": 135,
   "id": "a0b6a087",
   "metadata": {},
   "outputs": [
    {
     "data": {
      "text/plain": [
       "np.float64(22283.166666666668)"
      ]
     },
     "execution_count": 135,
     "metadata": {},
     "output_type": "execute_result"
    }
   ],
   "source": [
    "df['price'].mean()"
   ]
  },
  {
   "cell_type": "code",
   "execution_count": 147,
   "id": "d9a84d2b",
   "metadata": {},
   "outputs": [
    {
     "data": {
      "text/plain": [
       "'Electronics'"
      ]
     },
     "execution_count": 147,
     "metadata": {},
     "output_type": "execute_result"
    }
   ],
   "source": [
    "df['category'].mode()[0]"
   ]
  },
  {
   "cell_type": "code",
   "execution_count": 139,
   "id": "8fa03f65",
   "metadata": {},
   "outputs": [
    {
     "name": "stderr",
     "output_type": "stream",
     "text": [
      "C:\\Users\\bhawa\\AppData\\Local\\Temp\\ipykernel_6372\\2825470260.py:1: FutureWarning: A value is trying to be set on a copy of a DataFrame or Series through chained assignment using an inplace method.\n",
      "The behavior will change in pandas 3.0. This inplace method will never work because the intermediate object on which we are setting values always behaves as a copy.\n",
      "\n",
      "For example, when doing 'df[col].method(value, inplace=True)', try using 'df.method({col: value}, inplace=True)' or df[col] = df[col].method(value) instead, to perform the operation inplace on the original object.\n",
      "\n",
      "\n",
      "  df['price'].fillna(df['price'].mean(), inplace= True)\n"
     ]
    }
   ],
   "source": [
    "df['price'].fillna(df['price'].mean(), inplace= True)"
   ]
  },
  {
   "cell_type": "code",
   "execution_count": 148,
   "id": "e164f419",
   "metadata": {},
   "outputs": [],
   "source": [
    "df['category'].fillna(df['category'].mode()[0], inplace= True)"
   ]
  },
  {
   "cell_type": "code",
   "execution_count": null,
   "id": "d697c2b6",
   "metadata": {},
   "outputs": [],
   "source": [
    "#how to do cleaning of dataset\n",
    "# Data Format \n",
    "# DROP DUPLICATES\n",
    "# HANLING MISSING VALUES (ROWS ONLY)  \n",
    "    # -> Drop the data (not good in case of small data)\n",
    "    # -> Fill the Data \n",
    "            #  categorical ->  mode , ffill , dfill\n",
    "            #  numerical   ->  mean , median , mode , ffill , dfill \n",
    "            #  fill the data with joining (if data is availanble but \n",
    "            #  somewhere else?) # DATA ANALYSIS"
   ]
  }
 ],
 "metadata": {
  "kernelspec": {
   "display_name": "Python 3",
   "language": "python",
   "name": "python3"
  },
  "language_info": {
   "codemirror_mode": {
    "name": "ipython",
    "version": 3
   },
   "file_extension": ".py",
   "mimetype": "text/x-python",
   "name": "python",
   "nbconvert_exporter": "python",
   "pygments_lexer": "ipython3",
   "version": "3.13.3"
  }
 },
 "nbformat": 4,
 "nbformat_minor": 5
}
