{
 "cells": [
  {
   "cell_type": "code",
   "execution_count": 25,
   "id": "04269eac",
   "metadata": {},
   "outputs": [],
   "source": [
    "import pandas as pd"
   ]
  },
  {
   "cell_type": "code",
   "execution_count": 1,
   "id": "7abb9cd2",
   "metadata": {},
   "outputs": [],
   "source": [
    "# Beautiful Soup , # Selenium  # Request\n",
    "import requests\n",
    "from bs4 import BeautifulSoup"
   ]
  },
  {
   "cell_type": "code",
   "execution_count": 2,
   "id": "73aed0ad",
   "metadata": {},
   "outputs": [],
   "source": [
    "web_code = requests.get('http://127.0.0.1:3000/pandas-tutorial/web_scraping_and_automation/index.html')"
   ]
  },
  {
   "cell_type": "code",
   "execution_count": 3,
   "id": "244f6e43",
   "metadata": {},
   "outputs": [
    {
     "data": {
      "text/plain": [
       "<Response [200]>"
      ]
     },
     "execution_count": 3,
     "metadata": {},
     "output_type": "execute_result"
    }
   ],
   "source": [
    "web_code"
   ]
  },
  {
   "cell_type": "code",
   "execution_count": 26,
   "id": "a9430f86",
   "metadata": {},
   "outputs": [],
   "source": [
    "url = []\n",
    "price  = []\n",
    "description = []"
   ]
  },
  {
   "cell_type": "code",
   "execution_count": 6,
   "id": "a79643d4",
   "metadata": {},
   "outputs": [],
   "source": [
    "soup = BeautifulSoup(web_code.text)"
   ]
  },
  {
   "cell_type": "code",
   "execution_count": 11,
   "id": "14c01f67",
   "metadata": {},
   "outputs": [],
   "source": [
    "images_tag = soup.find_all('img', class_ = \"D\")"
   ]
  },
  {
   "cell_type": "code",
   "execution_count": 27,
   "id": "a5287ab9",
   "metadata": {},
   "outputs": [],
   "source": [
    "for images in images_tag:\n",
    "    url.append(images.attrs['src'])"
   ]
  },
  {
   "cell_type": "code",
   "execution_count": 28,
   "id": "773b17ab",
   "metadata": {},
   "outputs": [],
   "source": [
    "price_tag = soup.find_all('p',class_ = 'price')\n",
    "for p in  price_tag:\n",
    "    price.append(p.text)"
   ]
  },
  {
   "cell_type": "code",
   "execution_count": 29,
   "id": "450de574",
   "metadata": {},
   "outputs": [],
   "source": [
    "discription_tag = soup.find_all('p',class_ = 'dis')\n",
    "for p in  discription_tag:\n",
    "    description.append(p.text)"
   ]
  },
  {
   "cell_type": "code",
   "execution_count": 30,
   "id": "fa5b4a85",
   "metadata": {},
   "outputs": [],
   "source": [
    "df = pd.DataFrame(\n",
    "    {\n",
    "        \"URL\" : url,\n",
    "        \"Price\" : price,\n",
    "        \"Discription\" : description\n",
    "    }\n",
    ")"
   ]
  },
  {
   "cell_type": "code",
   "execution_count": 32,
   "id": "f00fde84",
   "metadata": {},
   "outputs": [],
   "source": [
    "df.to_excel('product.xlsx')"
   ]
  },
  {
   "cell_type": "code",
   "execution_count": null,
   "id": "6eb82f1c",
   "metadata": {},
   "outputs": [
    {
     "ename": "TypeError",
     "evalue": "PageElement._find_one() missing 3 required positional arguments: 'name', 'attrs', and 'string'",
     "output_type": "error",
     "traceback": [
      "\u001b[31m---------------------------------------------------------------------------\u001b[39m",
      "\u001b[31mTypeError\u001b[39m                                 Traceback (most recent call last)",
      "\u001b[36mCell\u001b[39m\u001b[36m \u001b[39m\u001b[32mIn[46]\u001b[39m\u001b[32m, line 4\u001b[39m\n\u001b[32m      1\u001b[39m div_tag = soup.find_all(\u001b[33m'\u001b[39m\u001b[33mdiv\u001b[39m\u001b[33m'\u001b[39m, class_ = \u001b[33m'\u001b[39m\u001b[33mA\u001b[39m\u001b[33m'\u001b[39m)\n\u001b[32m      2\u001b[39m \u001b[38;5;28;01mfor\u001b[39;00m code \u001b[38;5;129;01min\u001b[39;00m div_tag:\n\u001b[32m----> \u001b[39m\u001b[32m4\u001b[39m     \u001b[38;5;28mprint\u001b[39m(\u001b[43mcode\u001b[49m\u001b[43m.\u001b[49m\u001b[43m_find_one\u001b[49m\u001b[43m(\u001b[49m\u001b[33;43m'\u001b[39;49m\u001b[33;43mp\u001b[39;49m\u001b[33;43m'\u001b[39;49m\u001b[43m,\u001b[49m\u001b[43m \u001b[49m\u001b[43mclass_\u001b[49m\u001b[43m \u001b[49m\u001b[43m=\u001b[49m\u001b[43m \u001b[49m\u001b[33;43m'\u001b[39;49m\u001b[33;43mprice\u001b[39;49m\u001b[33;43m'\u001b[39;49m\u001b[43m)\u001b[49m)\n\u001b[32m      5\u001b[39m     \u001b[38;5;28mprint\u001b[39m(code.find_all(\u001b[33m'\u001b[39m\u001b[33mp\u001b[39m\u001b[33m'\u001b[39m, class_ = \u001b[33m'\u001b[39m\u001b[33mdis\u001b[39m\u001b[33m'\u001b[39m))\n\u001b[32m      6\u001b[39m     \u001b[38;5;28mprint\u001b[39m(code.find_all(\u001b[33m'\u001b[39m\u001b[33mimg\u001b[39m\u001b[33m'\u001b[39m))\n",
      "\u001b[31mTypeError\u001b[39m: PageElement._find_one() missing 3 required positional arguments: 'name', 'attrs', and 'string'"
     ]
    }
   ],
   "source": [
    "div_tag = soup.find_all('div', class_ = 'A')\n",
    "for code in div_tag:\n",
    "    print(code.find_o('p', class_ = 'price'))\n",
    "    print(code.find_all('p', class_ = 'dis'))\n",
    "    print(code.find_all('img'))\n"
   ]
  },
  {
   "cell_type": "code",
   "execution_count": 36,
   "id": "ff41b3c1",
   "metadata": {},
   "outputs": [
    {
     "data": {
      "text/plain": [
       "[<div class=\"A\" id=\"i1\">\n",
       " <img alt=\"person on ocean\" class=\"D\" src=\"./images/img1.png\"/>\n",
       " <h1>Image Created by Picaso</h1>\n",
       " <p class=\"price\">50$</p>\n",
       " <p class=\"dis\">Lorem ipsum dolor sit amet consectetur adipisicing elit. Possimus, dicta recusandae magnam\n",
       "             facilis neque nostrum tempore libero eligendi quia quas.</p>\n",
       " </div>,\n",
       " <div class=\"A C\">\n",
       " <img alt=\"not found\" class=\"D\" src=\"./images/img3.png\"/>\n",
       " <h1>Python</h1>\n",
       " <p class=\"price\">200$</p>\n",
       " <p class=\"dis\">Lorem ipsum dolor sit amet consectetur adipisicing elit. Possimus, dicta recusandae magnam\n",
       "             facilis neque nostrum tempore libero eligendi quia quas.</p>\n",
       " </div>]"
      ]
     },
     "execution_count": 36,
     "metadata": {},
     "output_type": "execute_result"
    }
   ],
   "source": [
    "div_tag"
   ]
  }
 ],
 "metadata": {
  "kernelspec": {
   "display_name": "Python 3",
   "language": "python",
   "name": "python3"
  },
  "language_info": {
   "codemirror_mode": {
    "name": "ipython",
    "version": 3
   },
   "file_extension": ".py",
   "mimetype": "text/x-python",
   "name": "python",
   "nbconvert_exporter": "python",
   "pygments_lexer": "ipython3",
   "version": "3.13.4"
  }
 },
 "nbformat": 4,
 "nbformat_minor": 5
}
