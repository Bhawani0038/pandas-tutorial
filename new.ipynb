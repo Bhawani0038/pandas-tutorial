{
 "cells": [
  {
   "cell_type": "code",
   "execution_count": 161,
   "id": "197eec38",
   "metadata": {},
   "outputs": [],
   "source": [
    "import numpy as np\n",
    "import pandas as pd\n",
    "import seaborn as sns"
   ]
  },
  {
   "cell_type": "code",
   "execution_count": 162,
   "id": "4d90def2",
   "metadata": {},
   "outputs": [],
   "source": [
    "#Excel / Csv / Sql / Clipboard / Html / Json  (Data Connectors)"
   ]
  },
  {
   "cell_type": "code",
   "execution_count": 163,
   "id": "02d68759",
   "metadata": {},
   "outputs": [],
   "source": [
    "#IMPORT THE DATA\n",
    "\n",
    "# pd.read_csv()\n",
    "# pd.read_excel()\n",
    "# pd.read_json()\n",
    "# pd.read_html()\n",
    "# pd.read_sql()\n",
    "# pd.read_sql_query()\n",
    "# pd.read_sql_table()"
   ]
  },
  {
   "cell_type": "code",
   "execution_count": 164,
   "id": "ac3a87bd",
   "metadata": {},
   "outputs": [],
   "source": [
    "# Export the Data\n",
    "# df =pd.DataFrame()\n",
    "hotel_data = pd.read_excel(r\"C:\\Users\\bhawa\\OneDrive\\Desktop\\da data\\DA Notes\\Datasets\\Individual files\\Employee_Data.xlsx\")"
   ]
  },
  {
   "cell_type": "code",
   "execution_count": 165,
   "id": "7dcb20d6",
   "metadata": {},
   "outputs": [
    {
     "data": {
      "text/html": [
       "<div>\n",
       "<style scoped>\n",
       "    .dataframe tbody tr th:only-of-type {\n",
       "        vertical-align: middle;\n",
       "    }\n",
       "\n",
       "    .dataframe tbody tr th {\n",
       "        vertical-align: top;\n",
       "    }\n",
       "\n",
       "    .dataframe thead th {\n",
       "        text-align: right;\n",
       "    }\n",
       "</style>\n",
       "<table border=\"1\" class=\"dataframe\">\n",
       "  <thead>\n",
       "    <tr style=\"text-align: right;\">\n",
       "      <th></th>\n",
       "      <th>EEID</th>\n",
       "      <th>Full Name</th>\n",
       "      <th>Job Title</th>\n",
       "      <th>Department</th>\n",
       "      <th>Business Unit</th>\n",
       "      <th>Gender</th>\n",
       "      <th>Ethnicity</th>\n",
       "      <th>Age</th>\n",
       "      <th>Hire Date</th>\n",
       "      <th>Annual Salary</th>\n",
       "      <th>Bonus %</th>\n",
       "      <th>Country</th>\n",
       "      <th>City</th>\n",
       "      <th>Exit Date</th>\n",
       "    </tr>\n",
       "  </thead>\n",
       "  <tbody>\n",
       "    <tr>\n",
       "      <th>0</th>\n",
       "      <td>E00005</td>\n",
       "      <td>RILEY WASHINGTON</td>\n",
       "      <td>Director</td>\n",
       "      <td>Sales</td>\n",
       "      <td>Speciality Products</td>\n",
       "      <td>Female</td>\n",
       "      <td>Caucasian</td>\n",
       "      <td>39.0</td>\n",
       "      <td>2007-04-29 00:00:00</td>\n",
       "      <td>171487.0</td>\n",
       "      <td>0.23</td>\n",
       "      <td>United States</td>\n",
       "      <td>Phoenix</td>\n",
       "      <td>NaT</td>\n",
       "    </tr>\n",
       "    <tr>\n",
       "      <th>1</th>\n",
       "      <td>E00013</td>\n",
       "      <td>ELENA VANG</td>\n",
       "      <td>Analyst</td>\n",
       "      <td>Finance</td>\n",
       "      <td>Corporate</td>\n",
       "      <td>Female</td>\n",
       "      <td>Asian</td>\n",
       "      <td>52.0</td>\n",
       "      <td>2019-02-19 00:00:00</td>\n",
       "      <td>55859.0</td>\n",
       "      <td>0.00</td>\n",
       "      <td>China</td>\n",
       "      <td>Beijing</td>\n",
       "      <td>NaT</td>\n",
       "    </tr>\n",
       "    <tr>\n",
       "      <th>2</th>\n",
       "      <td>E00022</td>\n",
       "      <td>ELENA HER</td>\n",
       "      <td>Account Representative</td>\n",
       "      <td>Sales</td>\n",
       "      <td>Manufacturing</td>\n",
       "      <td>Female</td>\n",
       "      <td>Asian</td>\n",
       "      <td>62.0</td>\n",
       "      <td>2006-09-17 00:00:00</td>\n",
       "      <td>64669.0</td>\n",
       "      <td>0.00</td>\n",
       "      <td>China</td>\n",
       "      <td>Chongqing</td>\n",
       "      <td>NaT</td>\n",
       "    </tr>\n",
       "    <tr>\n",
       "      <th>3</th>\n",
       "      <td>E00023</td>\n",
       "      <td>GABRIEL JOSEPH</td>\n",
       "      <td>Director</td>\n",
       "      <td>Engineering</td>\n",
       "      <td>Manufacturing</td>\n",
       "      <td>Male</td>\n",
       "      <td>Caucasian</td>\n",
       "      <td>52.0</td>\n",
       "      <td>2006-10-28 00:00:00</td>\n",
       "      <td>187992.0</td>\n",
       "      <td>0.28</td>\n",
       "      <td>United States</td>\n",
       "      <td>Miami</td>\n",
       "      <td>NaT</td>\n",
       "    </tr>\n",
       "    <tr>\n",
       "      <th>4</th>\n",
       "      <td>E00034</td>\n",
       "      <td>CAROLINE HERRERA</td>\n",
       "      <td>Sr. Manger</td>\n",
       "      <td>Marketing</td>\n",
       "      <td>Manufacturing</td>\n",
       "      <td>Female</td>\n",
       "      <td>Latino</td>\n",
       "      <td>45.0</td>\n",
       "      <td>2004-08-19 00:00:00</td>\n",
       "      <td>121065.0</td>\n",
       "      <td>0.15</td>\n",
       "      <td>Brazil</td>\n",
       "      <td>Rio de Janerio</td>\n",
       "      <td>NaT</td>\n",
       "    </tr>\n",
       "  </tbody>\n",
       "</table>\n",
       "</div>"
      ],
      "text/plain": [
       "     EEID            Full Name               Job Title   Department  \\\n",
       "0  E00005     RILEY WASHINGTON                Director        Sales   \n",
       "1  E00013           ELENA VANG                 Analyst      Finance   \n",
       "2  E00022            ELENA HER  Account Representative        Sales   \n",
       "3  E00023       GABRIEL JOSEPH                Director  Engineering   \n",
       "4  E00034     CAROLINE HERRERA              Sr. Manger    Marketing   \n",
       "\n",
       "         Business Unit  Gender  Ethnicity   Age            Hire Date  \\\n",
       "0  Speciality Products  Female  Caucasian  39.0  2007-04-29 00:00:00   \n",
       "1            Corporate  Female      Asian  52.0  2019-02-19 00:00:00   \n",
       "2        Manufacturing  Female      Asian  62.0  2006-09-17 00:00:00   \n",
       "3        Manufacturing    Male  Caucasian  52.0  2006-10-28 00:00:00   \n",
       "4        Manufacturing  Female     Latino  45.0  2004-08-19 00:00:00   \n",
       "\n",
       "   Annual Salary  Bonus %        Country            City Exit Date  \n",
       "0       171487.0     0.23  United States         Phoenix       NaT  \n",
       "1        55859.0     0.00          China         Beijing       NaT  \n",
       "2        64669.0     0.00          China       Chongqing       NaT  \n",
       "3       187992.0     0.28  United States           Miami       NaT  \n",
       "4       121065.0     0.15         Brazil  Rio de Janerio       NaT  "
      ]
     },
     "execution_count": 165,
     "metadata": {},
     "output_type": "execute_result"
    }
   ],
   "source": [
    "#EDA - > Exploratory data analysis\n",
    "\n",
    "hotel_data.head()  #SHOW TOP 5 ROWS"
   ]
  },
  {
   "cell_type": "code",
   "execution_count": 166,
   "id": "55695f78",
   "metadata": {},
   "outputs": [
    {
     "data": {
      "text/html": [
       "<div>\n",
       "<style scoped>\n",
       "    .dataframe tbody tr th:only-of-type {\n",
       "        vertical-align: middle;\n",
       "    }\n",
       "\n",
       "    .dataframe tbody tr th {\n",
       "        vertical-align: top;\n",
       "    }\n",
       "\n",
       "    .dataframe thead th {\n",
       "        text-align: right;\n",
       "    }\n",
       "</style>\n",
       "<table border=\"1\" class=\"dataframe\">\n",
       "  <thead>\n",
       "    <tr style=\"text-align: right;\">\n",
       "      <th></th>\n",
       "      <th>EEID</th>\n",
       "      <th>Full Name</th>\n",
       "      <th>Job Title</th>\n",
       "      <th>Department</th>\n",
       "      <th>Business Unit</th>\n",
       "      <th>Gender</th>\n",
       "      <th>Ethnicity</th>\n",
       "      <th>Age</th>\n",
       "      <th>Hire Date</th>\n",
       "      <th>Annual Salary</th>\n",
       "      <th>Bonus %</th>\n",
       "      <th>Country</th>\n",
       "      <th>City</th>\n",
       "      <th>Exit Date</th>\n",
       "    </tr>\n",
       "  </thead>\n",
       "  <tbody>\n",
       "    <tr>\n",
       "      <th>999</th>\n",
       "      <td>NaN</td>\n",
       "      <td>NaN</td>\n",
       "      <td>NaN</td>\n",
       "      <td>NaN</td>\n",
       "      <td>NaN</td>\n",
       "      <td>NaN</td>\n",
       "      <td>NaN</td>\n",
       "      <td>NaN</td>\n",
       "      <td>NaN</td>\n",
       "      <td>NaN</td>\n",
       "      <td>NaN</td>\n",
       "      <td>NaN</td>\n",
       "      <td>NaN</td>\n",
       "      <td>NaT</td>\n",
       "    </tr>\n",
       "    <tr>\n",
       "      <th>1000</th>\n",
       "      <td>NaN</td>\n",
       "      <td>NaN</td>\n",
       "      <td>NaN</td>\n",
       "      <td>NaN</td>\n",
       "      <td>NaN</td>\n",
       "      <td>NaN</td>\n",
       "      <td>NaN</td>\n",
       "      <td>NaN</td>\n",
       "      <td>NaN</td>\n",
       "      <td>NaN</td>\n",
       "      <td>NaN</td>\n",
       "      <td>NaN</td>\n",
       "      <td>NaN</td>\n",
       "      <td>NaT</td>\n",
       "    </tr>\n",
       "    <tr>\n",
       "      <th>1001</th>\n",
       "      <td>NaN</td>\n",
       "      <td>NaN</td>\n",
       "      <td>NaN</td>\n",
       "      <td>NaN</td>\n",
       "      <td>NaN</td>\n",
       "      <td>NaN</td>\n",
       "      <td>NaN</td>\n",
       "      <td>NaN</td>\n",
       "      <td>NaN</td>\n",
       "      <td>NaN</td>\n",
       "      <td>NaN</td>\n",
       "      <td>NaN</td>\n",
       "      <td>NaN</td>\n",
       "      <td>NaT</td>\n",
       "    </tr>\n",
       "    <tr>\n",
       "      <th>1002</th>\n",
       "      <td>NaN</td>\n",
       "      <td>5</td>\n",
       "      <td>93</td>\n",
       "      <td>94</td>\n",
       "      <td>89</td>\n",
       "      <td>89</td>\n",
       "      <td>89</td>\n",
       "      <td>94.0</td>\n",
       "      <td>89</td>\n",
       "      <td>6.0</td>\n",
       "      <td>NaN</td>\n",
       "      <td>NaN</td>\n",
       "      <td>NaN</td>\n",
       "      <td>NaT</td>\n",
       "    </tr>\n",
       "    <tr>\n",
       "      <th>1003</th>\n",
       "      <td>E04995</td>\n",
       "      <td>Madan Sharma</td>\n",
       "      <td>IT</td>\n",
       "      <td>Accounting</td>\n",
       "      <td>Research &amp; Development</td>\n",
       "      <td>Makle</td>\n",
       "      <td>Indian</td>\n",
       "      <td>98.0</td>\n",
       "      <td>2017-06-26 00:00:00</td>\n",
       "      <td>961269.0</td>\n",
       "      <td>NaN</td>\n",
       "      <td>NaN</td>\n",
       "      <td>NaN</td>\n",
       "      <td>NaT</td>\n",
       "    </tr>\n",
       "  </tbody>\n",
       "</table>\n",
       "</div>"
      ],
      "text/plain": [
       "        EEID     Full Name Job Title  Department           Business Unit  \\\n",
       "999      NaN           NaN       NaN         NaN                     NaN   \n",
       "1000     NaN           NaN       NaN         NaN                     NaN   \n",
       "1001     NaN           NaN       NaN         NaN                     NaN   \n",
       "1002     NaN             5        93          94                      89   \n",
       "1003  E04995  Madan Sharma        IT  Accounting  Research & Development   \n",
       "\n",
       "     Gender Ethnicity   Age            Hire Date  Annual Salary  Bonus %  \\\n",
       "999     NaN       NaN   NaN                  NaN            NaN      NaN   \n",
       "1000    NaN       NaN   NaN                  NaN            NaN      NaN   \n",
       "1001    NaN       NaN   NaN                  NaN            NaN      NaN   \n",
       "1002     89        89  94.0                   89            6.0      NaN   \n",
       "1003  Makle    Indian  98.0  2017-06-26 00:00:00       961269.0      NaN   \n",
       "\n",
       "     Country City Exit Date  \n",
       "999      NaN  NaN       NaT  \n",
       "1000     NaN  NaN       NaT  \n",
       "1001     NaN  NaN       NaT  \n",
       "1002     NaN  NaN       NaT  \n",
       "1003     NaN  NaN       NaT  "
      ]
     },
     "execution_count": 166,
     "metadata": {},
     "output_type": "execute_result"
    }
   ],
   "source": [
    "hotel_data.tail()  # SHOW BOTTOM 5 ROWS"
   ]
  },
  {
   "cell_type": "code",
   "execution_count": 167,
   "id": "a0db3194",
   "metadata": {},
   "outputs": [],
   "source": [
    "# hotel_data.loc[100 : 159]"
   ]
  },
  {
   "cell_type": "code",
   "execution_count": 168,
   "id": "db698c12",
   "metadata": {},
   "outputs": [
    {
     "name": "stdout",
     "output_type": "stream",
     "text": [
      "<class 'pandas.core.frame.DataFrame'>\n",
      "RangeIndex: 1004 entries, 0 to 1003\n",
      "Data columns (total 14 columns):\n",
      " #   Column         Non-Null Count  Dtype         \n",
      "---  ------         --------------  -----         \n",
      " 0   EEID           912 non-null    object        \n",
      " 1   Full Name      908 non-null    object        \n",
      " 2   Job Title      909 non-null    object        \n",
      " 3   Department     908 non-null    object        \n",
      " 4   Business Unit  913 non-null    object        \n",
      " 5   Gender         913 non-null    object        \n",
      " 6   Ethnicity      913 non-null    object        \n",
      " 7   Age            908 non-null    float64       \n",
      " 8   Hire Date      913 non-null    object        \n",
      " 9   Annual Salary  907 non-null    float64       \n",
      " 10  Bonus %        911 non-null    float64       \n",
      " 11  Country        911 non-null    object        \n",
      " 12  City           911 non-null    object        \n",
      " 13  Exit Date      78 non-null     datetime64[ns]\n",
      "dtypes: datetime64[ns](1), float64(3), object(10)\n",
      "memory usage: 109.9+ KB\n"
     ]
    }
   ],
   "source": [
    "hotel_data.info()"
   ]
  },
  {
   "cell_type": "code",
   "execution_count": 169,
   "id": "606862d5",
   "metadata": {},
   "outputs": [],
   "source": [
    "# hotel_data.describe()  1000\n",
    "# info(),  describe() \n",
    "\n",
    "# Employees are aged , Salaries Distributions are scattered , Bonus is not tha good, \n",
    "# company is older, aND Still in industry "
   ]
  },
  {
   "cell_type": "code",
   "execution_count": 170,
   "id": "409cc902",
   "metadata": {},
   "outputs": [
    {
     "data": {
      "text/plain": [
       "EEID              92\n",
       "Full Name         96\n",
       "Job Title         95\n",
       "Department        96\n",
       "Business Unit     91\n",
       "Gender            91\n",
       "Ethnicity         91\n",
       "Age               96\n",
       "Hire Date         91\n",
       "Annual Salary     97\n",
       "Bonus %           93\n",
       "Country           93\n",
       "City              93\n",
       "Exit Date        926\n",
       "dtype: int64"
      ]
     },
     "execution_count": 170,
     "metadata": {},
     "output_type": "execute_result"
    }
   ],
   "source": [
    "hotel_data.isna().sum()"
   ]
  },
  {
   "cell_type": "code",
   "execution_count": 171,
   "id": "debe39f3",
   "metadata": {},
   "outputs": [
    {
     "data": {
      "text/plain": [
       "EEID              9.163347\n",
       "Full Name         9.561753\n",
       "Job Title         9.462151\n",
       "Department        9.561753\n",
       "Business Unit     9.063745\n",
       "Gender            9.063745\n",
       "Ethnicity         9.063745\n",
       "Age               9.561753\n",
       "Hire Date         9.063745\n",
       "Annual Salary     9.661355\n",
       "Bonus %           9.262948\n",
       "Country           9.262948\n",
       "City              9.262948\n",
       "Exit Date        92.231076\n",
       "dtype: float64"
      ]
     },
     "execution_count": 171,
     "metadata": {},
     "output_type": "execute_result"
    }
   ],
   "source": [
    "hotel_data.isna().mean() * 100"
   ]
  },
  {
   "cell_type": "code",
   "execution_count": 172,
   "id": "8437f397",
   "metadata": {},
   "outputs": [],
   "source": [
    "hotel_data.drop_duplicates(inplace=True, ignore_index= True)"
   ]
  },
  {
   "cell_type": "code",
   "execution_count": 173,
   "id": "802f30ea",
   "metadata": {},
   "outputs": [],
   "source": [
    "hotel_data.dropna(how = 'all', inplace = True)"
   ]
  },
  {
   "cell_type": "code",
   "execution_count": 174,
   "id": "d666109b",
   "metadata": {},
   "outputs": [],
   "source": [
    "hotel_data.dropna(subset=['EEID', 'Full Name'], inplace = True)"
   ]
  },
  {
   "cell_type": "code",
   "execution_count": 175,
   "id": "f775d2c0",
   "metadata": {},
   "outputs": [
    {
     "name": "stderr",
     "output_type": "stream",
     "text": [
      "C:\\Users\\bhawa\\AppData\\Local\\Temp\\ipykernel_10632\\1202913095.py:1: FutureWarning: A value is trying to be set on a copy of a DataFrame or Series through chained assignment using an inplace method.\n",
      "The behavior will change in pandas 3.0. This inplace method will never work because the intermediate object on which we are setting values always behaves as a copy.\n",
      "\n",
      "For example, when doing 'df[col].method(value, inplace=True)', try using 'df.method({col: value}, inplace=True)' or df[col] = df[col].method(value) instead, to perform the operation inplace on the original object.\n",
      "\n",
      "\n",
      "  hotel_data['Job Title'].fillna(method = 'ffill', inplace= True)\n",
      "C:\\Users\\bhawa\\AppData\\Local\\Temp\\ipykernel_10632\\1202913095.py:1: FutureWarning: Series.fillna with 'method' is deprecated and will raise in a future version. Use obj.ffill() or obj.bfill() instead.\n",
      "  hotel_data['Job Title'].fillna(method = 'ffill', inplace= True)\n"
     ]
    }
   ],
   "source": [
    "hotel_data['Job Title'].fillna(method = 'ffill', inplace= True)"
   ]
  },
  {
   "cell_type": "code",
   "execution_count": 176,
   "id": "711f7c2e",
   "metadata": {},
   "outputs": [
    {
     "name": "stderr",
     "output_type": "stream",
     "text": [
      "C:\\Users\\bhawa\\AppData\\Local\\Temp\\ipykernel_10632\\2231038030.py:1: FutureWarning: A value is trying to be set on a copy of a DataFrame or Series through chained assignment using an inplace method.\n",
      "The behavior will change in pandas 3.0. This inplace method will never work because the intermediate object on which we are setting values always behaves as a copy.\n",
      "\n",
      "For example, when doing 'df[col].method(value, inplace=True)', try using 'df.method({col: value}, inplace=True)' or df[col] = df[col].method(value) instead, to perform the operation inplace on the original object.\n",
      "\n",
      "\n",
      "  hotel_data['Department'].fillna(method = 'ffill', inplace=True)\n",
      "C:\\Users\\bhawa\\AppData\\Local\\Temp\\ipykernel_10632\\2231038030.py:1: FutureWarning: Series.fillna with 'method' is deprecated and will raise in a future version. Use obj.ffill() or obj.bfill() instead.\n",
      "  hotel_data['Department'].fillna(method = 'ffill', inplace=True)\n"
     ]
    }
   ],
   "source": [
    "hotel_data['Department'].fillna(method = 'ffill', inplace=True)"
   ]
  },
  {
   "cell_type": "code",
   "execution_count": 177,
   "id": "15a946f8",
   "metadata": {},
   "outputs": [
    {
     "data": {
      "text/plain": [
       "np.float64(44.310421286031044)"
      ]
     },
     "execution_count": 177,
     "metadata": {},
     "output_type": "execute_result"
    }
   ],
   "source": [
    "hotel_data['Age'].mean()"
   ]
  },
  {
   "cell_type": "code",
   "execution_count": 178,
   "id": "37cad845",
   "metadata": {},
   "outputs": [
    {
     "data": {
      "text/plain": [
       "np.float64(45.0)"
      ]
     },
     "execution_count": 178,
     "metadata": {},
     "output_type": "execute_result"
    }
   ],
   "source": [
    "hotel_data['Age'].median()"
   ]
  },
  {
   "cell_type": "code",
   "execution_count": 179,
   "id": "50a480f3",
   "metadata": {},
   "outputs": [
    {
     "data": {
      "text/plain": [
       "0    45.0\n",
       "Name: Age, dtype: float64"
      ]
     },
     "execution_count": 179,
     "metadata": {},
     "output_type": "execute_result"
    }
   ],
   "source": [
    "hotel_data['Age'].mode()"
   ]
  },
  {
   "cell_type": "code",
   "execution_count": 180,
   "id": "c90022a4",
   "metadata": {},
   "outputs": [
    {
     "name": "stderr",
     "output_type": "stream",
     "text": [
      "C:\\Users\\bhawa\\AppData\\Local\\Temp\\ipykernel_10632\\191740169.py:1: FutureWarning: A value is trying to be set on a copy of a DataFrame or Series through chained assignment using an inplace method.\n",
      "The behavior will change in pandas 3.0. This inplace method will never work because the intermediate object on which we are setting values always behaves as a copy.\n",
      "\n",
      "For example, when doing 'df[col].method(value, inplace=True)', try using 'df.method({col: value}, inplace=True)' or df[col] = df[col].method(value) instead, to perform the operation inplace on the original object.\n",
      "\n",
      "\n",
      "  hotel_data['Age'].fillna(hotel_data['Age'].mean(), inplace= True)\n"
     ]
    }
   ],
   "source": [
    "hotel_data['Age'].fillna(hotel_data['Age'].mean(), inplace= True)"
   ]
  },
  {
   "cell_type": "code",
   "execution_count": 181,
   "id": "1e9b0efb",
   "metadata": {},
   "outputs": [
    {
     "data": {
      "text/plain": [
       "np.float64(114155.83129855715)"
      ]
     },
     "execution_count": 181,
     "metadata": {},
     "output_type": "execute_result"
    }
   ],
   "source": [
    "hotel_data['Annual Salary'].mean()"
   ]
  },
  {
   "cell_type": "code",
   "execution_count": 182,
   "id": "22cd5293",
   "metadata": {},
   "outputs": [
    {
     "data": {
      "text/plain": [
       "np.float64(96441.0)"
      ]
     },
     "execution_count": 182,
     "metadata": {},
     "output_type": "execute_result"
    }
   ],
   "source": [
    "hotel_data['Annual Salary'].median()"
   ]
  },
  {
   "cell_type": "code",
   "execution_count": 183,
   "id": "1f7521b9",
   "metadata": {},
   "outputs": [
    {
     "data": {
      "text/plain": [
       "0     70165.0\n",
       "1    146140.0\n",
       "Name: Annual Salary, dtype: float64"
      ]
     },
     "execution_count": 183,
     "metadata": {},
     "output_type": "execute_result"
    }
   ],
   "source": [
    "hotel_data['Annual Salary'].mode()"
   ]
  },
  {
   "cell_type": "code",
   "execution_count": 184,
   "id": "405ab643",
   "metadata": {},
   "outputs": [
    {
     "data": {
      "text/plain": [
       "np.float64(60399.74816837086)"
      ]
     },
     "execution_count": 184,
     "metadata": {},
     "output_type": "execute_result"
    }
   ],
   "source": [
    "hotel_data['Annual Salary'].std()"
   ]
  },
  {
   "cell_type": "code",
   "execution_count": 185,
   "id": "616cace0",
   "metadata": {},
   "outputs": [
    {
     "data": {
      "text/plain": [
       "<Axes: xlabel='Annual Salary', ylabel='Density'>"
      ]
     },
     "execution_count": 185,
     "metadata": {},
     "output_type": "execute_result"
    },
    {
     "data": {
      "image/png": "[encoded data removed]",
      "text/plain": [
       "<Figure size 640x480 with 1 Axes>"
      ]
     },
     "metadata": {},
     "output_type": "display_data"
    }
   ],
   "source": [
    "sns.kdeplot(data=hotel_data, x ='Annual Salary' )"
   ]
  },
  {
   "cell_type": "code",
   "execution_count": 186,
   "id": "6d653386",
   "metadata": {},
   "outputs": [
    {
     "name": "stderr",
     "output_type": "stream",
     "text": [
      "C:\\Users\\bhawa\\AppData\\Local\\Temp\\ipykernel_10632\\3145030665.py:1: FutureWarning: A value is trying to be set on a copy of a DataFrame or Series through chained assignment using an inplace method.\n",
      "The behavior will change in pandas 3.0. This inplace method will never work because the intermediate object on which we are setting values always behaves as a copy.\n",
      "\n",
      "For example, when doing 'df[col].method(value, inplace=True)', try using 'df.method({col: value}, inplace=True)' or df[col] = df[col].method(value) instead, to perform the operation inplace on the original object.\n",
      "\n",
      "\n",
      "  hotel_data['Annual Salary'].fillna(hotel_data['Annual Salary'].median(), inplace= True)\n"
     ]
    }
   ],
   "source": [
    "hotel_data['Annual Salary'].fillna(hotel_data['Annual Salary'].median(), inplace= True)"
   ]
  },
  {
   "cell_type": "code",
   "execution_count": 187,
   "id": "03e7f9eb",
   "metadata": {},
   "outputs": [],
   "source": [
    "# Analysis"
   ]
  },
  {
   "cell_type": "code",
   "execution_count": 188,
   "id": "9a03100b",
   "metadata": {},
   "outputs": [],
   "source": [
    "# How many people in each department / Distribution of Department"
   ]
  },
  {
   "cell_type": "code",
   "execution_count": 189,
   "id": "c9b0dc96",
   "metadata": {},
   "outputs": [
    {
     "data": {
      "text/plain": [
       "Department\n",
       "IT                 213\n",
       "Engineering        151\n",
       "Sales              128\n",
       "Marketing          112\n",
       "Human Resources    111\n",
       "Finance            108\n",
       "Accounting          84\n",
       "Name: count, dtype: int64"
      ]
     },
     "execution_count": 189,
     "metadata": {},
     "output_type": "execute_result"
    }
   ],
   "source": [
    "hotel_data['Department'].value_counts()"
   ]
  },
  {
   "cell_type": "code",
   "execution_count": 190,
   "id": "61d4dc10",
   "metadata": {},
   "outputs": [
    {
     "data": {
      "text/plain": [
       "<Axes: xlabel='count', ylabel='Department'>"
      ]
     },
     "execution_count": 190,
     "metadata": {},
     "output_type": "execute_result"
    },
    {
     "data": {
      "image/png": "[encoded data removed]",
      "text/plain": [
       "<Figure size 640x480 with 1 Axes>"
      ]
     },
     "metadata": {},
     "output_type": "display_data"
    }
   ],
   "source": [
    "sns.countplot(hotel_data['Department'])"
   ]
  },
  {
   "cell_type": "code",
   "execution_count": 191,
   "id": "d25d97fa",
   "metadata": {},
   "outputs": [
    {
     "data": {
      "text/html": [
       "<div>\n",
       "<style scoped>\n",
       "    .dataframe tbody tr th:only-of-type {\n",
       "        vertical-align: middle;\n",
       "    }\n",
       "\n",
       "    .dataframe tbody tr th {\n",
       "        vertical-align: top;\n",
       "    }\n",
       "\n",
       "    .dataframe thead th {\n",
       "        text-align: right;\n",
       "    }\n",
       "</style>\n",
       "<table border=\"1\" class=\"dataframe\">\n",
       "  <thead>\n",
       "    <tr style=\"text-align: right;\">\n",
       "      <th></th>\n",
       "      <th>EEID</th>\n",
       "      <th>Full Name</th>\n",
       "      <th>Job Title</th>\n",
       "      <th>Department</th>\n",
       "      <th>Business Unit</th>\n",
       "      <th>Gender</th>\n",
       "      <th>Ethnicity</th>\n",
       "      <th>Age</th>\n",
       "      <th>Hire Date</th>\n",
       "      <th>Annual Salary</th>\n",
       "      <th>Bonus %</th>\n",
       "      <th>Country</th>\n",
       "      <th>City</th>\n",
       "      <th>Exit Date</th>\n",
       "    </tr>\n",
       "  </thead>\n",
       "  <tbody>\n",
       "    <tr>\n",
       "      <th>0</th>\n",
       "      <td>E00005</td>\n",
       "      <td>RILEY WASHINGTON</td>\n",
       "      <td>Director</td>\n",
       "      <td>Sales</td>\n",
       "      <td>Speciality Products</td>\n",
       "      <td>Female</td>\n",
       "      <td>Caucasian</td>\n",
       "      <td>39.0</td>\n",
       "      <td>2007-04-29 00:00:00</td>\n",
       "      <td>171487.0</td>\n",
       "      <td>0.23</td>\n",
       "      <td>United States</td>\n",
       "      <td>Phoenix</td>\n",
       "      <td>NaT</td>\n",
       "    </tr>\n",
       "    <tr>\n",
       "      <th>1</th>\n",
       "      <td>E00013</td>\n",
       "      <td>ELENA VANG</td>\n",
       "      <td>Analyst</td>\n",
       "      <td>Finance</td>\n",
       "      <td>Corporate</td>\n",
       "      <td>Female</td>\n",
       "      <td>Asian</td>\n",
       "      <td>52.0</td>\n",
       "      <td>2019-02-19 00:00:00</td>\n",
       "      <td>55859.0</td>\n",
       "      <td>0.00</td>\n",
       "      <td>China</td>\n",
       "      <td>Beijing</td>\n",
       "      <td>NaT</td>\n",
       "    </tr>\n",
       "    <tr>\n",
       "      <th>2</th>\n",
       "      <td>E00022</td>\n",
       "      <td>ELENA HER</td>\n",
       "      <td>Account Representative</td>\n",
       "      <td>Sales</td>\n",
       "      <td>Manufacturing</td>\n",
       "      <td>Female</td>\n",
       "      <td>Asian</td>\n",
       "      <td>62.0</td>\n",
       "      <td>2006-09-17 00:00:00</td>\n",
       "      <td>64669.0</td>\n",
       "      <td>0.00</td>\n",
       "      <td>China</td>\n",
       "      <td>Chongqing</td>\n",
       "      <td>NaT</td>\n",
       "    </tr>\n",
       "    <tr>\n",
       "      <th>3</th>\n",
       "      <td>E00023</td>\n",
       "      <td>GABRIEL JOSEPH</td>\n",
       "      <td>Director</td>\n",
       "      <td>Engineering</td>\n",
       "      <td>Manufacturing</td>\n",
       "      <td>Male</td>\n",
       "      <td>Caucasian</td>\n",
       "      <td>52.0</td>\n",
       "      <td>2006-10-28 00:00:00</td>\n",
       "      <td>187992.0</td>\n",
       "      <td>0.28</td>\n",
       "      <td>United States</td>\n",
       "      <td>Miami</td>\n",
       "      <td>NaT</td>\n",
       "    </tr>\n",
       "    <tr>\n",
       "      <th>4</th>\n",
       "      <td>E00034</td>\n",
       "      <td>CAROLINE HERRERA</td>\n",
       "      <td>Sr. Manger</td>\n",
       "      <td>Marketing</td>\n",
       "      <td>Manufacturing</td>\n",
       "      <td>Female</td>\n",
       "      <td>Latino</td>\n",
       "      <td>45.0</td>\n",
       "      <td>2004-08-19 00:00:00</td>\n",
       "      <td>121065.0</td>\n",
       "      <td>0.15</td>\n",
       "      <td>Brazil</td>\n",
       "      <td>Rio de Janerio</td>\n",
       "      <td>NaT</td>\n",
       "    </tr>\n",
       "  </tbody>\n",
       "</table>\n",
       "</div>"
      ],
      "text/plain": [
       "     EEID            Full Name               Job Title   Department  \\\n",
       "0  E00005     RILEY WASHINGTON                Director        Sales   \n",
       "1  E00013           ELENA VANG                 Analyst      Finance   \n",
       "2  E00022            ELENA HER  Account Representative        Sales   \n",
       "3  E00023       GABRIEL JOSEPH                Director  Engineering   \n",
       "4  E00034     CAROLINE HERRERA              Sr. Manger    Marketing   \n",
       "\n",
       "         Business Unit  Gender  Ethnicity   Age            Hire Date  \\\n",
       "0  Speciality Products  Female  Caucasian  39.0  2007-04-29 00:00:00   \n",
       "1            Corporate  Female      Asian  52.0  2019-02-19 00:00:00   \n",
       "2        Manufacturing  Female      Asian  62.0  2006-09-17 00:00:00   \n",
       "3        Manufacturing    Male  Caucasian  52.0  2006-10-28 00:00:00   \n",
       "4        Manufacturing  Female     Latino  45.0  2004-08-19 00:00:00   \n",
       "\n",
       "   Annual Salary  Bonus %        Country            City Exit Date  \n",
       "0       171487.0     0.23  United States         Phoenix       NaT  \n",
       "1        55859.0     0.00          China         Beijing       NaT  \n",
       "2        64669.0     0.00          China       Chongqing       NaT  \n",
       "3       187992.0     0.28  United States           Miami       NaT  \n",
       "4       121065.0     0.15         Brazil  Rio de Janerio       NaT  "
      ]
     },
     "execution_count": 191,
     "metadata": {},
     "output_type": "execute_result"
    }
   ],
   "source": [
    "hotel_data.head()"
   ]
  },
  {
   "cell_type": "code",
   "execution_count": null,
   "id": "11adfcb5",
   "metadata": {},
   "outputs": [],
   "source": [
    "# Find out the people distribution couyntry wise\n",
    "# What are the number of females working in IT\n",
    "# How many male personalities are male in this data>\n",
    "# Find out the average salary of females\n",
    "# How many people joined after 2010\n",
    "# How many people are from china\n",
    "# What is the avg salary of chinese people\n",
    "# What is the average age of Asian people\n",
    "# How many people are foreiginer if origin of company is cosidered = USA\n",
    "# Who got more bonus after 2010 ? Male of Female\n",
    "# What is the dropout rate of employee for this data\n"
   ]
  }
 ],
 "metadata": {
  "kernelspec": {
   "display_name": "Python 3",
   "language": "python",
   "name": "python3"
  },
  "language_info": {
   "codemirror_mode": {
    "name": "ipython",
    "version": 3
   },
   "file_extension": ".py",
   "mimetype": "text/x-python",
   "name": "python",
   "nbconvert_exporter": "python",
   "pygments_lexer": "ipython3",
   "version": "3.13.3"
  }
 },
 "nbformat": 4,
 "nbformat_minor": 5
}
