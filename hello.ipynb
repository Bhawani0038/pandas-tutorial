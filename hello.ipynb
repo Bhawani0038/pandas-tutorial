{
 "cells": [
  {
   "cell_type": "code",
   "execution_count": 47,
   "id": "b1d1de8a",
   "metadata": {},
   "outputs": [],
   "source": [
    "import numpy as np\n",
    "import pandas as pd"
   ]
  },
  {
   "cell_type": "markdown",
   "id": "e249bf18",
   "metadata": {},
   "source": [
    "SERIES"
   ]
  },
  {
   "cell_type": "code",
   "execution_count": 48,
   "id": "1587662f",
   "metadata": {},
   "outputs": [],
   "source": [
    "s = pd.Series([20, 40, 80, 50, 50, 80, 50])"
   ]
  },
  {
   "cell_type": "code",
   "execution_count": 49,
   "id": "86e50983",
   "metadata": {},
   "outputs": [
    {
     "data": {
      "text/plain": [
       "np.int64(370)"
      ]
     },
     "execution_count": 49,
     "metadata": {},
     "output_type": "execute_result"
    }
   ],
   "source": [
    "s.sum()"
   ]
  },
  {
   "cell_type": "code",
   "execution_count": 50,
   "id": "7c1f8f21",
   "metadata": {},
   "outputs": [
    {
     "data": {
      "text/plain": [
       "np.int64(80)"
      ]
     },
     "execution_count": 50,
     "metadata": {},
     "output_type": "execute_result"
    }
   ],
   "source": [
    "s.max()"
   ]
  },
  {
   "cell_type": "markdown",
   "id": "b11f27c4",
   "metadata": {},
   "source": [
    "MEASURE OF CENTER TENDENCY"
   ]
  },
  {
   "cell_type": "code",
   "execution_count": 51,
   "id": "a252563d",
   "metadata": {},
   "outputs": [
    {
     "data": {
      "text/plain": [
       "np.int64(20)"
      ]
     },
     "execution_count": 51,
     "metadata": {},
     "output_type": "execute_result"
    }
   ],
   "source": [
    "s.min()"
   ]
  },
  {
   "cell_type": "code",
   "execution_count": 52,
   "id": "de0e2c84",
   "metadata": {},
   "outputs": [
    {
     "data": {
      "text/plain": [
       "np.float64(52.857142857142854)"
      ]
     },
     "execution_count": 52,
     "metadata": {},
     "output_type": "execute_result"
    }
   ],
   "source": [
    "s.mean()"
   ]
  },
  {
   "cell_type": "code",
   "execution_count": 53,
   "id": "cc4389fe",
   "metadata": {},
   "outputs": [
    {
     "data": {
      "text/plain": [
       "np.float64(50.0)"
      ]
     },
     "execution_count": 53,
     "metadata": {},
     "output_type": "execute_result"
    }
   ],
   "source": [
    "s.median()"
   ]
  },
  {
   "cell_type": "markdown",
   "id": "ad4e26b0",
   "metadata": {},
   "source": [
    "MEASURE OF SPREAD"
   ]
  },
  {
   "cell_type": "code",
   "execution_count": 54,
   "id": "3363010a",
   "metadata": {},
   "outputs": [
    {
     "data": {
      "text/plain": [
       "np.float64(21.38089935299395)"
      ]
     },
     "execution_count": 54,
     "metadata": {},
     "output_type": "execute_result"
    }
   ],
   "source": [
    "s.std()"
   ]
  },
  {
   "cell_type": "code",
   "execution_count": 55,
   "id": "47df5d1d",
   "metadata": {},
   "outputs": [
    {
     "data": {
      "text/plain": [
       "np.float64(457.14285714285717)"
      ]
     },
     "execution_count": 55,
     "metadata": {},
     "output_type": "execute_result"
    }
   ],
   "source": [
    "s.var()"
   ]
  },
  {
   "cell_type": "code",
   "execution_count": 56,
   "id": "33e93330",
   "metadata": {},
   "outputs": [
    {
     "data": {
      "text/plain": [
       "50    3\n",
       "80    2\n",
       "40    1\n",
       "20    1\n",
       "Name: count, dtype: int64"
      ]
     },
     "execution_count": 56,
     "metadata": {},
     "output_type": "execute_result"
    }
   ],
   "source": [
    "s.value_counts()"
   ]
  },
  {
   "cell_type": "code",
   "execution_count": 57,
   "id": "b5b6a653",
   "metadata": {},
   "outputs": [
    {
     "data": {
      "text/plain": [
       "RangeIndex(start=0, stop=7, step=1)"
      ]
     },
     "execution_count": 57,
     "metadata": {},
     "output_type": "execute_result"
    }
   ],
   "source": [
    "s.index"
   ]
  },
  {
   "cell_type": "code",
   "execution_count": 58,
   "id": "8d651006",
   "metadata": {},
   "outputs": [
    {
     "data": {
      "text/plain": [
       "array([20, 40, 80, 50, 50, 80, 50])"
      ]
     },
     "execution_count": 58,
     "metadata": {},
     "output_type": "execute_result"
    }
   ],
   "source": [
    "s.values"
   ]
  },
  {
   "cell_type": "markdown",
   "id": "79cc7c39",
   "metadata": {},
   "source": [
    "DATAFRAME"
   ]
  },
  {
   "cell_type": "code",
   "execution_count": 59,
   "id": "979bc669",
   "metadata": {},
   "outputs": [],
   "source": [
    "student_data = pd.DataFrame({\n",
    "    \"name\"      : ['AMAN', 'ANIL', 'AMAN', 'VINIT', 'MAHESH'],\n",
    "    \"age\"       : [20, 21, 20, 22, 21],\n",
    "    \"physics\"   : [10, 91, 60, 70, 80],\n",
    "    \"chimistry\" : [20, 30, 50, 45, 35],\n",
    "    \"maths\"     : [40, 52, 56, 60, 50]\n",
    "})"
   ]
  },
  {
   "cell_type": "code",
   "execution_count": 60,
   "id": "29a361e4",
   "metadata": {},
   "outputs": [
    {
     "data": {
      "text/html": [
       "<div>\n",
       "<style scoped>\n",
       "    .dataframe tbody tr th:only-of-type {\n",
       "        vertical-align: middle;\n",
       "    }\n",
       "\n",
       "    .dataframe tbody tr th {\n",
       "        vertical-align: top;\n",
       "    }\n",
       "\n",
       "    .dataframe thead th {\n",
       "        text-align: right;\n",
       "    }\n",
       "</style>\n",
       "<table border=\"1\" class=\"dataframe\">\n",
       "  <thead>\n",
       "    <tr style=\"text-align: right;\">\n",
       "      <th></th>\n",
       "      <th>name</th>\n",
       "      <th>age</th>\n",
       "      <th>physics</th>\n",
       "      <th>chimistry</th>\n",
       "      <th>maths</th>\n",
       "    </tr>\n",
       "  </thead>\n",
       "  <tbody>\n",
       "    <tr>\n",
       "      <th>0</th>\n",
       "      <td>AMAN</td>\n",
       "      <td>20</td>\n",
       "      <td>10</td>\n",
       "      <td>20</td>\n",
       "      <td>40</td>\n",
       "    </tr>\n",
       "    <tr>\n",
       "      <th>1</th>\n",
       "      <td>ANIL</td>\n",
       "      <td>21</td>\n",
       "      <td>91</td>\n",
       "      <td>30</td>\n",
       "      <td>52</td>\n",
       "    </tr>\n",
       "    <tr>\n",
       "      <th>2</th>\n",
       "      <td>AMAN</td>\n",
       "      <td>20</td>\n",
       "      <td>60</td>\n",
       "      <td>50</td>\n",
       "      <td>56</td>\n",
       "    </tr>\n",
       "    <tr>\n",
       "      <th>3</th>\n",
       "      <td>VINIT</td>\n",
       "      <td>22</td>\n",
       "      <td>70</td>\n",
       "      <td>45</td>\n",
       "      <td>60</td>\n",
       "    </tr>\n",
       "    <tr>\n",
       "      <th>4</th>\n",
       "      <td>MAHESH</td>\n",
       "      <td>21</td>\n",
       "      <td>80</td>\n",
       "      <td>35</td>\n",
       "      <td>50</td>\n",
       "    </tr>\n",
       "  </tbody>\n",
       "</table>\n",
       "</div>"
      ],
      "text/plain": [
       "     name  age  physics  chimistry  maths\n",
       "0    AMAN   20       10         20     40\n",
       "1    ANIL   21       91         30     52\n",
       "2    AMAN   20       60         50     56\n",
       "3   VINIT   22       70         45     60\n",
       "4  MAHESH   21       80         35     50"
      ]
     },
     "execution_count": 60,
     "metadata": {},
     "output_type": "execute_result"
    }
   ],
   "source": [
    "student_data"
   ]
  },
  {
   "cell_type": "code",
   "execution_count": 61,
   "id": "8c5686e8",
   "metadata": {},
   "outputs": [],
   "source": [
    "student_data['total'] = student_data['physics'] + student_data['chimistry'] + student_data['maths']"
   ]
  },
  {
   "cell_type": "code",
   "execution_count": 62,
   "id": "673cb0c1",
   "metadata": {},
   "outputs": [],
   "source": [
    "student_data['percentage'] = round(student_data.total / 3, ndigits=2)"
   ]
  },
  {
   "cell_type": "code",
   "execution_count": 63,
   "id": "0fc01313",
   "metadata": {},
   "outputs": [],
   "source": [
    "student_data.sort_values(by = 'percentage', ascending= False, inplace= True, ignore_index= True )"
   ]
  },
  {
   "cell_type": "code",
   "execution_count": 64,
   "id": "cb170903",
   "metadata": {},
   "outputs": [
    {
     "data": {
      "text/html": [
       "<div>\n",
       "<style scoped>\n",
       "    .dataframe tbody tr th:only-of-type {\n",
       "        vertical-align: middle;\n",
       "    }\n",
       "\n",
       "    .dataframe tbody tr th {\n",
       "        vertical-align: top;\n",
       "    }\n",
       "\n",
       "    .dataframe thead th {\n",
       "        text-align: right;\n",
       "    }\n",
       "</style>\n",
       "<table border=\"1\" class=\"dataframe\">\n",
       "  <thead>\n",
       "    <tr style=\"text-align: right;\">\n",
       "      <th></th>\n",
       "      <th>name</th>\n",
       "      <th>age</th>\n",
       "      <th>physics</th>\n",
       "      <th>chimistry</th>\n",
       "      <th>maths</th>\n",
       "      <th>total</th>\n",
       "      <th>percentage</th>\n",
       "    </tr>\n",
       "  </thead>\n",
       "  <tbody>\n",
       "    <tr>\n",
       "      <th>0</th>\n",
       "      <td>VINIT</td>\n",
       "      <td>22</td>\n",
       "      <td>70</td>\n",
       "      <td>45</td>\n",
       "      <td>60</td>\n",
       "      <td>175</td>\n",
       "      <td>58.33</td>\n",
       "    </tr>\n",
       "    <tr>\n",
       "      <th>1</th>\n",
       "      <td>ANIL</td>\n",
       "      <td>21</td>\n",
       "      <td>91</td>\n",
       "      <td>30</td>\n",
       "      <td>52</td>\n",
       "      <td>173</td>\n",
       "      <td>57.67</td>\n",
       "    </tr>\n",
       "    <tr>\n",
       "      <th>2</th>\n",
       "      <td>AMAN</td>\n",
       "      <td>20</td>\n",
       "      <td>60</td>\n",
       "      <td>50</td>\n",
       "      <td>56</td>\n",
       "      <td>166</td>\n",
       "      <td>55.33</td>\n",
       "    </tr>\n",
       "    <tr>\n",
       "      <th>3</th>\n",
       "      <td>MAHESH</td>\n",
       "      <td>21</td>\n",
       "      <td>80</td>\n",
       "      <td>35</td>\n",
       "      <td>50</td>\n",
       "      <td>165</td>\n",
       "      <td>55.00</td>\n",
       "    </tr>\n",
       "    <tr>\n",
       "      <th>4</th>\n",
       "      <td>AMAN</td>\n",
       "      <td>20</td>\n",
       "      <td>10</td>\n",
       "      <td>20</td>\n",
       "      <td>40</td>\n",
       "      <td>70</td>\n",
       "      <td>23.33</td>\n",
       "    </tr>\n",
       "  </tbody>\n",
       "</table>\n",
       "</div>"
      ],
      "text/plain": [
       "     name  age  physics  chimistry  maths  total  percentage\n",
       "0   VINIT   22       70         45     60    175       58.33\n",
       "1    ANIL   21       91         30     52    173       57.67\n",
       "2    AMAN   20       60         50     56    166       55.33\n",
       "3  MAHESH   21       80         35     50    165       55.00\n",
       "4    AMAN   20       10         20     40     70       23.33"
      ]
     },
     "execution_count": 64,
     "metadata": {},
     "output_type": "execute_result"
    }
   ],
   "source": [
    "student_data"
   ]
  },
  {
   "cell_type": "code",
   "execution_count": 65,
   "id": "e01aac7d",
   "metadata": {},
   "outputs": [],
   "source": [
    "def give_grades(percent):\n",
    "    if percent < 33:\n",
    "        return \"F\"\n",
    "    \n",
    "    elif percent < 50:\n",
    "        return \"C\"\n",
    "    \n",
    "    elif percent < 60:\n",
    "        return \"B\"\n",
    "    \n",
    "    elif percent < 90:\n",
    "        return \"A\"\n",
    "    \n",
    "    else:\n",
    "        return \"A+\""
   ]
  },
  {
   "cell_type": "code",
   "execution_count": 66,
   "id": "afa73ca0",
   "metadata": {},
   "outputs": [],
   "source": [
    "student_data['grades'] = student_data['percentage'].apply(func= give_grades)"
   ]
  },
  {
   "cell_type": "code",
   "execution_count": 67,
   "id": "d6c2333e",
   "metadata": {},
   "outputs": [],
   "source": [
    "# BOOLEAN INDEXING"
   ]
  },
  {
   "cell_type": "code",
   "execution_count": 68,
   "id": "46a37b69",
   "metadata": {},
   "outputs": [],
   "source": [
    "# find out names of those whose age is more than 21\n",
    "# find out data of those who got failed\n",
    "# find out those who got grade a or a+"
   ]
  },
  {
   "cell_type": "code",
   "execution_count": 69,
   "id": "aaaba0af",
   "metadata": {},
   "outputs": [
    {
     "data": {
      "text/html": [
       "<div>\n",
       "<style scoped>\n",
       "    .dataframe tbody tr th:only-of-type {\n",
       "        vertical-align: middle;\n",
       "    }\n",
       "\n",
       "    .dataframe tbody tr th {\n",
       "        vertical-align: top;\n",
       "    }\n",
       "\n",
       "    .dataframe thead th {\n",
       "        text-align: right;\n",
       "    }\n",
       "</style>\n",
       "<table border=\"1\" class=\"dataframe\">\n",
       "  <thead>\n",
       "    <tr style=\"text-align: right;\">\n",
       "      <th></th>\n",
       "      <th>name</th>\n",
       "      <th>age</th>\n",
       "      <th>physics</th>\n",
       "      <th>chimistry</th>\n",
       "      <th>maths</th>\n",
       "      <th>total</th>\n",
       "      <th>percentage</th>\n",
       "      <th>grades</th>\n",
       "    </tr>\n",
       "  </thead>\n",
       "  <tbody>\n",
       "    <tr>\n",
       "      <th>0</th>\n",
       "      <td>VINIT</td>\n",
       "      <td>22</td>\n",
       "      <td>70</td>\n",
       "      <td>45</td>\n",
       "      <td>60</td>\n",
       "      <td>175</td>\n",
       "      <td>58.33</td>\n",
       "      <td>B</td>\n",
       "    </tr>\n",
       "    <tr>\n",
       "      <th>2</th>\n",
       "      <td>AMAN</td>\n",
       "      <td>20</td>\n",
       "      <td>60</td>\n",
       "      <td>50</td>\n",
       "      <td>56</td>\n",
       "      <td>166</td>\n",
       "      <td>55.33</td>\n",
       "      <td>B</td>\n",
       "    </tr>\n",
       "  </tbody>\n",
       "</table>\n",
       "</div>"
      ],
      "text/plain": [
       "    name  age  physics  chimistry  maths  total  percentage grades\n",
       "0  VINIT   22       70         45     60    175       58.33      B\n",
       "2   AMAN   20       60         50     56    166       55.33      B"
      ]
     },
     "execution_count": 69,
     "metadata": {},
     "output_type": "execute_result"
    }
   ],
   "source": [
    "student_data[student_data['maths'] > 55]"
   ]
  },
  {
   "cell_type": "code",
   "execution_count": 70,
   "id": "03a67875",
   "metadata": {},
   "outputs": [
    {
     "data": {
      "text/html": [
       "<div>\n",
       "<style scoped>\n",
       "    .dataframe tbody tr th:only-of-type {\n",
       "        vertical-align: middle;\n",
       "    }\n",
       "\n",
       "    .dataframe tbody tr th {\n",
       "        vertical-align: top;\n",
       "    }\n",
       "\n",
       "    .dataframe thead th {\n",
       "        text-align: right;\n",
       "    }\n",
       "</style>\n",
       "<table border=\"1\" class=\"dataframe\">\n",
       "  <thead>\n",
       "    <tr style=\"text-align: right;\">\n",
       "      <th></th>\n",
       "      <th>name</th>\n",
       "      <th>age</th>\n",
       "      <th>physics</th>\n",
       "      <th>chimistry</th>\n",
       "      <th>maths</th>\n",
       "      <th>total</th>\n",
       "      <th>percentage</th>\n",
       "      <th>grades</th>\n",
       "    </tr>\n",
       "  </thead>\n",
       "  <tbody>\n",
       "    <tr>\n",
       "      <th>0</th>\n",
       "      <td>VINIT</td>\n",
       "      <td>22</td>\n",
       "      <td>70</td>\n",
       "      <td>45</td>\n",
       "      <td>60</td>\n",
       "      <td>175</td>\n",
       "      <td>58.33</td>\n",
       "      <td>B</td>\n",
       "    </tr>\n",
       "    <tr>\n",
       "      <th>2</th>\n",
       "      <td>AMAN</td>\n",
       "      <td>20</td>\n",
       "      <td>60</td>\n",
       "      <td>50</td>\n",
       "      <td>56</td>\n",
       "      <td>166</td>\n",
       "      <td>55.33</td>\n",
       "      <td>B</td>\n",
       "    </tr>\n",
       "  </tbody>\n",
       "</table>\n",
       "</div>"
      ],
      "text/plain": [
       "    name  age  physics  chimistry  maths  total  percentage grades\n",
       "0  VINIT   22       70         45     60    175       58.33      B\n",
       "2   AMAN   20       60         50     56    166       55.33      B"
      ]
     },
     "execution_count": 70,
     "metadata": {},
     "output_type": "execute_result"
    }
   ],
   "source": [
    "student_data[(student_data['physics'] > 55) & (student_data['physics'] < 75)]"
   ]
  },
  {
   "cell_type": "code",
   "execution_count": 71,
   "id": "cd6f4c2d",
   "metadata": {},
   "outputs": [
    {
     "data": {
      "text/plain": [
       "Series([], Name: name, dtype: object)"
      ]
     },
     "execution_count": 71,
     "metadata": {},
     "output_type": "execute_result"
    }
   ],
   "source": [
    "#identify people who scored well in maths but not so good in physics\n",
    "# maths > 50  , physics < 60   \n",
    "# student_data['maths']  > 50\n",
    "# student_data['physics'] < 60\n",
    "\n",
    "#bitwise and - > &  (ampersand)\n",
    "#bitwise or ->  | \n",
    "#bitwise not ->  ~ (tilde)\n",
    "\n",
    "\n",
    "student_data[ (student_data['chimistry'] > 40)  & ( student_data[ 'maths' ] < 45) ][\"name\"]"
   ]
  },
  {
   "cell_type": "code",
   "execution_count": null,
   "id": "2d285b2e",
   "metadata": {},
   "outputs": [],
   "source": [
    "# student_data\n",
    "\n",
    "#what basic operation you can do on a table?\n",
    "\n",
    "#DELETE COLUMN \n",
    "# del student_data['grades']\n",
    "# student_data.drop(columns=['total', 'percentage'], inplace = True)\n",
    "\n",
    "#RENAME COLUMN\n",
    "# student_data.rename(columns={\"physics\": \"bio\", 'chimistry' : 'chemistry'}, inplace= True)\n",
    "# student_data['bio'] = student_data['bio'].astype(dtype='float')\n",
    "\n",
    "\n",
    "#CHNGE DATA TYPE\n",
    "# student_data['bio'] = student_data['bio'].astype(dtype='float')\n",
    "\n",
    "# DELTE ROWS VIA INDEXING\n",
    "# student_data.drop(labels=[1,3])\n",
    "\n",
    "\n",
    "#DELETE ROWS VIA CONDITION\n",
    "# student_data.drop(student_data[student_data['maths']  > 55].index)"
   ]
  },
  {
   "cell_type": "code",
   "execution_count": 75,
   "id": "b9b41d48",
   "metadata": {},
   "outputs": [],
   "source": [
    "student_data.rename(columns={\"physics\": \"bio\", 'chimistry' : 'chemistry'}, inplace= True)"
   ]
  },
  {
   "cell_type": "code",
   "execution_count": 81,
   "id": "54052a2d",
   "metadata": {},
   "outputs": [],
   "source": [
    "student_data['bio'] = student_data['bio'].astype(dtype='float')"
   ]
  },
  {
   "cell_type": "code",
   "execution_count": 86,
   "id": "beba32a8",
   "metadata": {},
   "outputs": [],
   "source": [
    "student_data['name'] = student_data['name'].astype(dtype= 'str')"
   ]
  },
  {
   "cell_type": "code",
   "execution_count": null,
   "id": "77f34d44",
   "metadata": {},
   "outputs": [
    {
     "data": {
      "text/html": [
       "<div>\n",
       "<style scoped>\n",
       "    .dataframe tbody tr th:only-of-type {\n",
       "        vertical-align: middle;\n",
       "    }\n",
       "\n",
       "    .dataframe tbody tr th {\n",
       "        vertical-align: top;\n",
       "    }\n",
       "\n",
       "    .dataframe thead th {\n",
       "        text-align: right;\n",
       "    }\n",
       "</style>\n",
       "<table border=\"1\" class=\"dataframe\">\n",
       "  <thead>\n",
       "    <tr style=\"text-align: right;\">\n",
       "      <th></th>\n",
       "      <th>name</th>\n",
       "      <th>age</th>\n",
       "      <th>bio</th>\n",
       "      <th>chemistry</th>\n",
       "      <th>maths</th>\n",
       "      <th>total</th>\n",
       "      <th>percentage</th>\n",
       "      <th>grades</th>\n",
       "    </tr>\n",
       "  </thead>\n",
       "  <tbody>\n",
       "    <tr>\n",
       "      <th>0</th>\n",
       "      <td>VINIT</td>\n",
       "      <td>22</td>\n",
       "      <td>70.0</td>\n",
       "      <td>45</td>\n",
       "      <td>60</td>\n",
       "      <td>175</td>\n",
       "      <td>58.33</td>\n",
       "      <td>B</td>\n",
       "    </tr>\n",
       "    <tr>\n",
       "      <th>2</th>\n",
       "      <td>AMAN</td>\n",
       "      <td>20</td>\n",
       "      <td>60.0</td>\n",
       "      <td>50</td>\n",
       "      <td>56</td>\n",
       "      <td>166</td>\n",
       "      <td>55.33</td>\n",
       "      <td>B</td>\n",
       "    </tr>\n",
       "    <tr>\n",
       "      <th>4</th>\n",
       "      <td>AMAN</td>\n",
       "      <td>20</td>\n",
       "      <td>10.0</td>\n",
       "      <td>20</td>\n",
       "      <td>40</td>\n",
       "      <td>70</td>\n",
       "      <td>23.33</td>\n",
       "      <td>F</td>\n",
       "    </tr>\n",
       "  </tbody>\n",
       "</table>\n",
       "</div>"
      ],
      "text/plain": [
       "    name  age   bio  chemistry  maths  total  percentage grades\n",
       "0  VINIT   22  70.0         45     60    175       58.33      B\n",
       "2   AMAN   20  60.0         50     56    166       55.33      B\n",
       "4   AMAN   20  10.0         20     40     70       23.33      F"
      ]
     },
     "execution_count": 90,
     "metadata": {},
     "output_type": "execute_result"
    }
   ],
   "source": [
    "student_data.drop(labels=[1,3])"
   ]
  },
  {
   "cell_type": "code",
   "execution_count": null,
   "id": "325dc714",
   "metadata": {},
   "outputs": [
    {
     "data": {
      "text/html": [
       "<div>\n",
       "<style scoped>\n",
       "    .dataframe tbody tr th:only-of-type {\n",
       "        vertical-align: middle;\n",
       "    }\n",
       "\n",
       "    .dataframe tbody tr th {\n",
       "        vertical-align: top;\n",
       "    }\n",
       "\n",
       "    .dataframe thead th {\n",
       "        text-align: right;\n",
       "    }\n",
       "</style>\n",
       "<table border=\"1\" class=\"dataframe\">\n",
       "  <thead>\n",
       "    <tr style=\"text-align: right;\">\n",
       "      <th></th>\n",
       "      <th>name</th>\n",
       "      <th>age</th>\n",
       "      <th>bio</th>\n",
       "      <th>chemistry</th>\n",
       "      <th>maths</th>\n",
       "      <th>total</th>\n",
       "      <th>percentage</th>\n",
       "      <th>grades</th>\n",
       "    </tr>\n",
       "  </thead>\n",
       "  <tbody>\n",
       "    <tr>\n",
       "      <th>0</th>\n",
       "      <td>VINIT</td>\n",
       "      <td>22</td>\n",
       "      <td>70.0</td>\n",
       "      <td>45</td>\n",
       "      <td>60</td>\n",
       "      <td>175</td>\n",
       "      <td>58.33</td>\n",
       "      <td>B</td>\n",
       "    </tr>\n",
       "    <tr>\n",
       "      <th>1</th>\n",
       "      <td>ANIL</td>\n",
       "      <td>21</td>\n",
       "      <td>91.0</td>\n",
       "      <td>30</td>\n",
       "      <td>52</td>\n",
       "      <td>173</td>\n",
       "      <td>57.67</td>\n",
       "      <td>B</td>\n",
       "    </tr>\n",
       "    <tr>\n",
       "      <th>2</th>\n",
       "      <td>AMAN</td>\n",
       "      <td>20</td>\n",
       "      <td>60.0</td>\n",
       "      <td>50</td>\n",
       "      <td>56</td>\n",
       "      <td>166</td>\n",
       "      <td>55.33</td>\n",
       "      <td>B</td>\n",
       "    </tr>\n",
       "    <tr>\n",
       "      <th>3</th>\n",
       "      <td>MAHESH</td>\n",
       "      <td>21</td>\n",
       "      <td>80.0</td>\n",
       "      <td>35</td>\n",
       "      <td>50</td>\n",
       "      <td>165</td>\n",
       "      <td>55.00</td>\n",
       "      <td>B</td>\n",
       "    </tr>\n",
       "  </tbody>\n",
       "</table>\n",
       "</div>"
      ],
      "text/plain": [
       "     name  age   bio  chemistry  maths  total  percentage grades\n",
       "0   VINIT   22  70.0         45     60    175       58.33      B\n",
       "1    ANIL   21  91.0         30     52    173       57.67      B\n",
       "2    AMAN   20  60.0         50     56    166       55.33      B\n",
       "3  MAHESH   21  80.0         35     50    165       55.00      B"
      ]
     },
     "execution_count": 97,
     "metadata": {},
     "output_type": "execute_result"
    }
   ],
   "source": [
    "student_data =student_data[~(student_data['grades'] == 'F')]"
   ]
  },
  {
   "cell_type": "code",
   "execution_count": 99,
   "id": "c4338f6f",
   "metadata": {},
   "outputs": [
    {
     "data": {
      "text/html": [
       "<div>\n",
       "<style scoped>\n",
       "    .dataframe tbody tr th:only-of-type {\n",
       "        vertical-align: middle;\n",
       "    }\n",
       "\n",
       "    .dataframe tbody tr th {\n",
       "        vertical-align: top;\n",
       "    }\n",
       "\n",
       "    .dataframe thead th {\n",
       "        text-align: right;\n",
       "    }\n",
       "</style>\n",
       "<table border=\"1\" class=\"dataframe\">\n",
       "  <thead>\n",
       "    <tr style=\"text-align: right;\">\n",
       "      <th></th>\n",
       "      <th>name</th>\n",
       "      <th>age</th>\n",
       "      <th>bio</th>\n",
       "      <th>chemistry</th>\n",
       "      <th>maths</th>\n",
       "      <th>total</th>\n",
       "      <th>percentage</th>\n",
       "      <th>grades</th>\n",
       "    </tr>\n",
       "  </thead>\n",
       "  <tbody>\n",
       "    <tr>\n",
       "      <th>0</th>\n",
       "      <td>VINIT</td>\n",
       "      <td>22</td>\n",
       "      <td>70.0</td>\n",
       "      <td>45</td>\n",
       "      <td>60</td>\n",
       "      <td>175</td>\n",
       "      <td>58.33</td>\n",
       "      <td>B</td>\n",
       "    </tr>\n",
       "    <tr>\n",
       "      <th>1</th>\n",
       "      <td>ANIL</td>\n",
       "      <td>21</td>\n",
       "      <td>91.0</td>\n",
       "      <td>30</td>\n",
       "      <td>52</td>\n",
       "      <td>173</td>\n",
       "      <td>57.67</td>\n",
       "      <td>B</td>\n",
       "    </tr>\n",
       "    <tr>\n",
       "      <th>2</th>\n",
       "      <td>AMAN</td>\n",
       "      <td>20</td>\n",
       "      <td>60.0</td>\n",
       "      <td>50</td>\n",
       "      <td>56</td>\n",
       "      <td>166</td>\n",
       "      <td>55.33</td>\n",
       "      <td>B</td>\n",
       "    </tr>\n",
       "    <tr>\n",
       "      <th>3</th>\n",
       "      <td>MAHESH</td>\n",
       "      <td>21</td>\n",
       "      <td>80.0</td>\n",
       "      <td>35</td>\n",
       "      <td>50</td>\n",
       "      <td>165</td>\n",
       "      <td>55.00</td>\n",
       "      <td>B</td>\n",
       "    </tr>\n",
       "    <tr>\n",
       "      <th>4</th>\n",
       "      <td>AMAN</td>\n",
       "      <td>20</td>\n",
       "      <td>10.0</td>\n",
       "      <td>20</td>\n",
       "      <td>40</td>\n",
       "      <td>70</td>\n",
       "      <td>23.33</td>\n",
       "      <td>F</td>\n",
       "    </tr>\n",
       "  </tbody>\n",
       "</table>\n",
       "</div>"
      ],
      "text/plain": [
       "     name  age   bio  chemistry  maths  total  percentage grades\n",
       "0   VINIT   22  70.0         45     60    175       58.33      B\n",
       "1    ANIL   21  91.0         30     52    173       57.67      B\n",
       "2    AMAN   20  60.0         50     56    166       55.33      B\n",
       "3  MAHESH   21  80.0         35     50    165       55.00      B\n",
       "4    AMAN   20  10.0         20     40     70       23.33      F"
      ]
     },
     "execution_count": 99,
     "metadata": {},
     "output_type": "execute_result"
    }
   ],
   "source": [
    "student_data"
   ]
  },
  {
   "cell_type": "code",
   "execution_count": 109,
   "id": "7c0a0dab",
   "metadata": {},
   "outputs": [
    {
     "data": {
      "text/html": [
       "<div>\n",
       "<style scoped>\n",
       "    .dataframe tbody tr th:only-of-type {\n",
       "        vertical-align: middle;\n",
       "    }\n",
       "\n",
       "    .dataframe tbody tr th {\n",
       "        vertical-align: top;\n",
       "    }\n",
       "\n",
       "    .dataframe thead th {\n",
       "        text-align: right;\n",
       "    }\n",
       "</style>\n",
       "<table border=\"1\" class=\"dataframe\">\n",
       "  <thead>\n",
       "    <tr style=\"text-align: right;\">\n",
       "      <th></th>\n",
       "      <th>name</th>\n",
       "      <th>age</th>\n",
       "      <th>bio</th>\n",
       "      <th>chemistry</th>\n",
       "      <th>maths</th>\n",
       "      <th>total</th>\n",
       "      <th>percentage</th>\n",
       "      <th>grades</th>\n",
       "    </tr>\n",
       "  </thead>\n",
       "  <tbody>\n",
       "    <tr>\n",
       "      <th>1</th>\n",
       "      <td>ANIL</td>\n",
       "      <td>21</td>\n",
       "      <td>91.0</td>\n",
       "      <td>30</td>\n",
       "      <td>52</td>\n",
       "      <td>173</td>\n",
       "      <td>57.67</td>\n",
       "      <td>B</td>\n",
       "    </tr>\n",
       "    <tr>\n",
       "      <th>3</th>\n",
       "      <td>MAHESH</td>\n",
       "      <td>21</td>\n",
       "      <td>80.0</td>\n",
       "      <td>35</td>\n",
       "      <td>50</td>\n",
       "      <td>165</td>\n",
       "      <td>55.00</td>\n",
       "      <td>B</td>\n",
       "    </tr>\n",
       "    <tr>\n",
       "      <th>4</th>\n",
       "      <td>AMAN</td>\n",
       "      <td>20</td>\n",
       "      <td>10.0</td>\n",
       "      <td>20</td>\n",
       "      <td>40</td>\n",
       "      <td>70</td>\n",
       "      <td>23.33</td>\n",
       "      <td>F</td>\n",
       "    </tr>\n",
       "  </tbody>\n",
       "</table>\n",
       "</div>"
      ],
      "text/plain": [
       "     name  age   bio  chemistry  maths  total  percentage grades\n",
       "1    ANIL   21  91.0         30     52    173       57.67      B\n",
       "3  MAHESH   21  80.0         35     50    165       55.00      B\n",
       "4    AMAN   20  10.0         20     40     70       23.33      F"
      ]
     },
     "execution_count": 109,
     "metadata": {},
     "output_type": "execute_result"
    }
   ],
   "source": [
    "student_data.drop(student_data[student_data['maths']  > 55].index)"
   ]
  },
  {
   "cell_type": "code",
   "execution_count": 107,
   "id": "d499ae65",
   "metadata": {},
   "outputs": [
    {
     "data": {
      "text/plain": [
       "Index([4], dtype='int64')"
      ]
     },
     "execution_count": 107,
     "metadata": {},
     "output_type": "execute_result"
    }
   ],
   "source": [
    "student_data[student_data['grades']  == 'F'].index"
   ]
  },
  {
   "cell_type": "code",
   "execution_count": 126,
   "id": "b9a0baa2",
   "metadata": {},
   "outputs": [],
   "source": [
    "# dataframe.loc[row_slicing , columns names]\n",
    "\n",
    "student_data.loc[1,  : : ]  = ['ANIL SHARMA', 22, 94, 40, 52, 175, 60, 'A' ]"
   ]
  },
  {
   "cell_type": "code",
   "execution_count": null,
   "id": "e060e8c0",
   "metadata": {},
   "outputs": [],
   "source": [
    "student_data.loc[2:3, ['chemistry', 'maths', 'total']] = [[1,2, 3],[4, 5, 6]]"
   ]
  },
  {
   "cell_type": "code",
   "execution_count": 133,
   "id": "0f420983",
   "metadata": {},
   "outputs": [],
   "source": [
    "student_data.loc[student_data['total'] > 100, 'maths'] = [[50],[70]]"
   ]
  },
  {
   "cell_type": "code",
   "execution_count": 134,
   "id": "343a298d",
   "metadata": {},
   "outputs": [
    {
     "data": {
      "text/html": [
       "<div>\n",
       "<style scoped>\n",
       "    .dataframe tbody tr th:only-of-type {\n",
       "        vertical-align: middle;\n",
       "    }\n",
       "\n",
       "    .dataframe tbody tr th {\n",
       "        vertical-align: top;\n",
       "    }\n",
       "\n",
       "    .dataframe thead th {\n",
       "        text-align: right;\n",
       "    }\n",
       "</style>\n",
       "<table border=\"1\" class=\"dataframe\">\n",
       "  <thead>\n",
       "    <tr style=\"text-align: right;\">\n",
       "      <th></th>\n",
       "      <th>name</th>\n",
       "      <th>age</th>\n",
       "      <th>bio</th>\n",
       "      <th>chemistry</th>\n",
       "      <th>maths</th>\n",
       "      <th>total</th>\n",
       "      <th>percentage</th>\n",
       "      <th>grades</th>\n",
       "    </tr>\n",
       "  </thead>\n",
       "  <tbody>\n",
       "    <tr>\n",
       "      <th>0</th>\n",
       "      <td>VINIT</td>\n",
       "      <td>22</td>\n",
       "      <td>70.0</td>\n",
       "      <td>45</td>\n",
       "      <td>50</td>\n",
       "      <td>175</td>\n",
       "      <td>58.33</td>\n",
       "      <td>B</td>\n",
       "    </tr>\n",
       "    <tr>\n",
       "      <th>1</th>\n",
       "      <td>ANIL SHARMA</td>\n",
       "      <td>22</td>\n",
       "      <td>94.0</td>\n",
       "      <td>40</td>\n",
       "      <td>70</td>\n",
       "      <td>175</td>\n",
       "      <td>60.00</td>\n",
       "      <td>A</td>\n",
       "    </tr>\n",
       "    <tr>\n",
       "      <th>2</th>\n",
       "      <td>AMAN</td>\n",
       "      <td>20</td>\n",
       "      <td>60.0</td>\n",
       "      <td>1</td>\n",
       "      <td>2</td>\n",
       "      <td>3</td>\n",
       "      <td>55.33</td>\n",
       "      <td>B</td>\n",
       "    </tr>\n",
       "    <tr>\n",
       "      <th>3</th>\n",
       "      <td>MAHESH</td>\n",
       "      <td>21</td>\n",
       "      <td>80.0</td>\n",
       "      <td>4</td>\n",
       "      <td>5</td>\n",
       "      <td>6</td>\n",
       "      <td>55.00</td>\n",
       "      <td>B</td>\n",
       "    </tr>\n",
       "    <tr>\n",
       "      <th>4</th>\n",
       "      <td>AMAN</td>\n",
       "      <td>20</td>\n",
       "      <td>10.0</td>\n",
       "      <td>20</td>\n",
       "      <td>40</td>\n",
       "      <td>70</td>\n",
       "      <td>23.33</td>\n",
       "      <td>F</td>\n",
       "    </tr>\n",
       "  </tbody>\n",
       "</table>\n",
       "</div>"
      ],
      "text/plain": [
       "          name  age   bio  chemistry  maths  total  percentage grades\n",
       "0        VINIT   22  70.0         45     50    175       58.33      B\n",
       "1  ANIL SHARMA   22  94.0         40     70    175       60.00      A\n",
       "2         AMAN   20  60.0          1      2      3       55.33      B\n",
       "3       MAHESH   21  80.0          4      5      6       55.00      B\n",
       "4         AMAN   20  10.0         20     40     70       23.33      F"
      ]
     },
     "execution_count": 134,
     "metadata": {},
     "output_type": "execute_result"
    }
   ],
   "source": [
    "student_data"
   ]
  },
  {
   "cell_type": "code",
   "execution_count": 139,
   "id": "47f06ee8",
   "metadata": {},
   "outputs": [
    {
     "data": {
      "text/html": [
       "<div>\n",
       "<style scoped>\n",
       "    .dataframe tbody tr th:only-of-type {\n",
       "        vertical-align: middle;\n",
       "    }\n",
       "\n",
       "    .dataframe tbody tr th {\n",
       "        vertical-align: top;\n",
       "    }\n",
       "\n",
       "    .dataframe thead th {\n",
       "        text-align: right;\n",
       "    }\n",
       "</style>\n",
       "<table border=\"1\" class=\"dataframe\">\n",
       "  <thead>\n",
       "    <tr style=\"text-align: right;\">\n",
       "      <th></th>\n",
       "      <th>percentage</th>\n",
       "      <th>grades</th>\n",
       "    </tr>\n",
       "  </thead>\n",
       "  <tbody>\n",
       "    <tr>\n",
       "      <th>0</th>\n",
       "      <td>58.33</td>\n",
       "      <td>B</td>\n",
       "    </tr>\n",
       "    <tr>\n",
       "      <th>1</th>\n",
       "      <td>60.00</td>\n",
       "      <td>A</td>\n",
       "    </tr>\n",
       "    <tr>\n",
       "      <th>2</th>\n",
       "      <td>55.33</td>\n",
       "      <td>B</td>\n",
       "    </tr>\n",
       "  </tbody>\n",
       "</table>\n",
       "</div>"
      ],
      "text/plain": [
       "   percentage grades\n",
       "0       58.33      B\n",
       "1       60.00      A\n",
       "2       55.33      B"
      ]
     },
     "execution_count": 139,
     "metadata": {},
     "output_type": "execute_result"
    }
   ],
   "source": [
    "student_data.iloc[ 0:3, -2 : : ]"
   ]
  },
  {
   "cell_type": "code",
   "execution_count": 143,
   "id": "45396ffb",
   "metadata": {},
   "outputs": [
    {
     "data": {
      "text/html": [
       "<div>\n",
       "<style scoped>\n",
       "    .dataframe tbody tr th:only-of-type {\n",
       "        vertical-align: middle;\n",
       "    }\n",
       "\n",
       "    .dataframe tbody tr th {\n",
       "        vertical-align: top;\n",
       "    }\n",
       "\n",
       "    .dataframe thead th {\n",
       "        text-align: right;\n",
       "    }\n",
       "</style>\n",
       "<table border=\"1\" class=\"dataframe\">\n",
       "  <thead>\n",
       "    <tr style=\"text-align: right;\">\n",
       "      <th></th>\n",
       "      <th>OrderID</th>\n",
       "      <th>Customer</th>\n",
       "      <th>TotalBill</th>\n",
       "    </tr>\n",
       "  </thead>\n",
       "  <tbody>\n",
       "    <tr>\n",
       "      <th>0</th>\n",
       "      <td>101</td>\n",
       "      <td>Zomato</td>\n",
       "      <td>250</td>\n",
       "    </tr>\n",
       "    <tr>\n",
       "      <th>1</th>\n",
       "      <td>102</td>\n",
       "      <td>Swiggy</td>\n",
       "      <td>300</td>\n",
       "    </tr>\n",
       "  </tbody>\n",
       "</table>\n",
       "</div>"
      ],
      "text/plain": [
       "   OrderID Customer  TotalBill\n",
       "0      101   Zomato        250\n",
       "1      102   Swiggy        300"
      ]
     },
     "execution_count": 143,
     "metadata": {},
     "output_type": "execute_result"
    }
   ],
   "source": [
    "df = pd.DataFrame({\n",
    "    'OrderID': [101, 102],\n",
    "    'Customer': ['Zomato', 'Swiggy'],\n",
    "    'TotalBill': [250, 300]\n",
    "})\n",
    "df"
   ]
  },
  {
   "cell_type": "code",
   "execution_count": 151,
   "id": "404fc7df",
   "metadata": {},
   "outputs": [],
   "source": [
    "df.loc[len(df)] = [103, 'Blinkit', 500]"
   ]
  },
  {
   "cell_type": "code",
   "execution_count": 156,
   "id": "0ce65578",
   "metadata": {},
   "outputs": [
    {
     "data": {
      "text/html": [
       "<div>\n",
       "<style scoped>\n",
       "    .dataframe tbody tr th:only-of-type {\n",
       "        vertical-align: middle;\n",
       "    }\n",
       "\n",
       "    .dataframe tbody tr th {\n",
       "        vertical-align: top;\n",
       "    }\n",
       "\n",
       "    .dataframe thead th {\n",
       "        text-align: right;\n",
       "    }\n",
       "</style>\n",
       "<table border=\"1\" class=\"dataframe\">\n",
       "  <thead>\n",
       "    <tr style=\"text-align: right;\">\n",
       "      <th></th>\n",
       "      <th>name</th>\n",
       "      <th>age</th>\n",
       "    </tr>\n",
       "  </thead>\n",
       "  <tbody>\n",
       "    <tr>\n",
       "      <th>0</th>\n",
       "      <td>a</td>\n",
       "      <td>20</td>\n",
       "    </tr>\n",
       "    <tr>\n",
       "      <th>1</th>\n",
       "      <td>b</td>\n",
       "      <td>21</td>\n",
       "    </tr>\n",
       "  </tbody>\n",
       "</table>\n",
       "</div>"
      ],
      "text/plain": [
       "  name  age\n",
       "0    a   20\n",
       "1    b   21"
      ]
     },
     "execution_count": 156,
     "metadata": {},
     "output_type": "execute_result"
    }
   ],
   "source": [
    "df1 = pd.DataFrame({\n",
    "    \"name\" : [\"a\", \"b\"], \n",
    "    \"age\"  : [20, 21]\n",
    "}\n",
    ")\n",
    "df1"
   ]
  },
  {
   "cell_type": "code",
   "execution_count": 157,
   "id": "29c9cc4e",
   "metadata": {},
   "outputs": [
    {
     "data": {
      "text/html": [
       "<div>\n",
       "<style scoped>\n",
       "    .dataframe tbody tr th:only-of-type {\n",
       "        vertical-align: middle;\n",
       "    }\n",
       "\n",
       "    .dataframe tbody tr th {\n",
       "        vertical-align: top;\n",
       "    }\n",
       "\n",
       "    .dataframe thead th {\n",
       "        text-align: right;\n",
       "    }\n",
       "</style>\n",
       "<table border=\"1\" class=\"dataframe\">\n",
       "  <thead>\n",
       "    <tr style=\"text-align: right;\">\n",
       "      <th></th>\n",
       "      <th>name</th>\n",
       "      <th>age</th>\n",
       "    </tr>\n",
       "  </thead>\n",
       "  <tbody>\n",
       "    <tr>\n",
       "      <th>0</th>\n",
       "      <td>c</td>\n",
       "      <td>22</td>\n",
       "    </tr>\n",
       "    <tr>\n",
       "      <th>1</th>\n",
       "      <td>d</td>\n",
       "      <td>23</td>\n",
       "    </tr>\n",
       "  </tbody>\n",
       "</table>\n",
       "</div>"
      ],
      "text/plain": [
       "  name  age\n",
       "0    c   22\n",
       "1    d   23"
      ]
     },
     "execution_count": 157,
     "metadata": {},
     "output_type": "execute_result"
    }
   ],
   "source": [
    "df2 = pd.DataFrame({\n",
    "    \"name\" : [\"c\", \"d\"], \n",
    "    \"age\"  : [22, 23]\n",
    "}\n",
    ")\n",
    "df2"
   ]
  },
  {
   "cell_type": "code",
   "execution_count": 159,
   "id": "5d1ad97f",
   "metadata": {},
   "outputs": [
    {
     "data": {
      "text/html": [
       "<div>\n",
       "<style scoped>\n",
       "    .dataframe tbody tr th:only-of-type {\n",
       "        vertical-align: middle;\n",
       "    }\n",
       "\n",
       "    .dataframe tbody tr th {\n",
       "        vertical-align: top;\n",
       "    }\n",
       "\n",
       "    .dataframe thead th {\n",
       "        text-align: right;\n",
       "    }\n",
       "</style>\n",
       "<table border=\"1\" class=\"dataframe\">\n",
       "  <thead>\n",
       "    <tr style=\"text-align: right;\">\n",
       "      <th></th>\n",
       "      <th>name</th>\n",
       "      <th>age</th>\n",
       "    </tr>\n",
       "  </thead>\n",
       "  <tbody>\n",
       "    <tr>\n",
       "      <th>0</th>\n",
       "      <td>a</td>\n",
       "      <td>20</td>\n",
       "    </tr>\n",
       "    <tr>\n",
       "      <th>1</th>\n",
       "      <td>b</td>\n",
       "      <td>21</td>\n",
       "    </tr>\n",
       "    <tr>\n",
       "      <th>2</th>\n",
       "      <td>c</td>\n",
       "      <td>22</td>\n",
       "    </tr>\n",
       "    <tr>\n",
       "      <th>3</th>\n",
       "      <td>d</td>\n",
       "      <td>23</td>\n",
       "    </tr>\n",
       "  </tbody>\n",
       "</table>\n",
       "</div>"
      ],
      "text/plain": [
       "  name  age\n",
       "0    a   20\n",
       "1    b   21\n",
       "2    c   22\n",
       "3    d   23"
      ]
     },
     "execution_count": 159,
     "metadata": {},
     "output_type": "execute_result"
    }
   ],
   "source": [
    "pd.concat([df1, df2], ignore_index= True)"
   ]
  }
 ],
 "metadata": {
  "kernelspec": {
   "display_name": "Python 3",
   "language": "python",
   "name": "python3"
  },
  "language_info": {
   "codemirror_mode": {
    "name": "ipython",
    "version": 3
   },
   "file_extension": ".py",
   "mimetype": "text/x-python",
   "name": "python",
   "nbconvert_exporter": "python",
   "pygments_lexer": "ipython3",
   "version": "3.13.3"
  }
 },
 "nbformat": 4,
 "nbformat_minor": 5
}
