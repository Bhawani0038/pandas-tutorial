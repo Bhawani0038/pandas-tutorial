{
 "cells": [
  {
   "cell_type": "code",
   "execution_count": 116,
   "id": "b1d1de8a",
   "metadata": {},
   "outputs": [],
   "source": [
    "import numpy as np\n",
    "import pandas as pd"
   ]
  },
  {
   "cell_type": "markdown",
   "id": "e249bf18",
   "metadata": {},
   "source": [
    "SERIES"
   ]
  },
  {
   "cell_type": "code",
   "execution_count": 117,
   "id": "1587662f",
   "metadata": {},
   "outputs": [],
   "source": [
    "s = pd.Series([20, 40, 80, 50, 50, 80, 50])"
   ]
  },
  {
   "cell_type": "code",
   "execution_count": 118,
   "id": "86e50983",
   "metadata": {},
   "outputs": [
    {
     "data": {
      "text/plain": [
       "np.int64(370)"
      ]
     },
     "execution_count": 118,
     "metadata": {},
     "output_type": "execute_result"
    }
   ],
   "source": [
    "s.sum()"
   ]
  },
  {
   "cell_type": "code",
   "execution_count": 119,
   "id": "7c1f8f21",
   "metadata": {},
   "outputs": [
    {
     "data": {
      "text/plain": [
       "np.int64(80)"
      ]
     },
     "execution_count": 119,
     "metadata": {},
     "output_type": "execute_result"
    }
   ],
   "source": [
    "s.max()"
   ]
  },
  {
   "cell_type": "markdown",
   "id": "b11f27c4",
   "metadata": {},
   "source": [
    "MEASURE OF CENTER TENDENCY"
   ]
  },
  {
   "cell_type": "code",
   "execution_count": 120,
   "id": "a252563d",
   "metadata": {},
   "outputs": [
    {
     "data": {
      "text/plain": [
       "np.int64(20)"
      ]
     },
     "execution_count": 120,
     "metadata": {},
     "output_type": "execute_result"
    }
   ],
   "source": [
    "s.min()"
   ]
  },
  {
   "cell_type": "code",
   "execution_count": 121,
   "id": "de0e2c84",
   "metadata": {},
   "outputs": [
    {
     "data": {
      "text/plain": [
       "np.float64(52.857142857142854)"
      ]
     },
     "execution_count": 121,
     "metadata": {},
     "output_type": "execute_result"
    }
   ],
   "source": [
    "s.mean()"
   ]
  },
  {
   "cell_type": "code",
   "execution_count": 122,
   "id": "cc4389fe",
   "metadata": {},
   "outputs": [
    {
     "data": {
      "text/plain": [
       "np.float64(50.0)"
      ]
     },
     "execution_count": 122,
     "metadata": {},
     "output_type": "execute_result"
    }
   ],
   "source": [
    "s.median()"
   ]
  },
  {
   "cell_type": "markdown",
   "id": "ad4e26b0",
   "metadata": {},
   "source": [
    "MEASURE OF SPREAD"
   ]
  },
  {
   "cell_type": "code",
   "execution_count": 123,
   "id": "3363010a",
   "metadata": {},
   "outputs": [
    {
     "data": {
      "text/plain": [
       "np.float64(21.38089935299395)"
      ]
     },
     "execution_count": 123,
     "metadata": {},
     "output_type": "execute_result"
    }
   ],
   "source": [
    "s.std()"
   ]
  },
  {
   "cell_type": "code",
   "execution_count": 124,
   "id": "47df5d1d",
   "metadata": {},
   "outputs": [
    {
     "data": {
      "text/plain": [
       "np.float64(457.14285714285717)"
      ]
     },
     "execution_count": 124,
     "metadata": {},
     "output_type": "execute_result"
    }
   ],
   "source": [
    "s.var()"
   ]
  },
  {
   "cell_type": "code",
   "execution_count": 125,
   "id": "33e93330",
   "metadata": {},
   "outputs": [
    {
     "data": {
      "text/plain": [
       "50    3\n",
       "80    2\n",
       "40    1\n",
       "20    1\n",
       "Name: count, dtype: int64"
      ]
     },
     "execution_count": 125,
     "metadata": {},
     "output_type": "execute_result"
    }
   ],
   "source": [
    "s.value_counts()"
   ]
  },
  {
   "cell_type": "code",
   "execution_count": 126,
   "id": "b5b6a653",
   "metadata": {},
   "outputs": [
    {
     "data": {
      "text/plain": [
       "RangeIndex(start=0, stop=7, step=1)"
      ]
     },
     "execution_count": 126,
     "metadata": {},
     "output_type": "execute_result"
    }
   ],
   "source": [
    "s.index"
   ]
  },
  {
   "cell_type": "code",
   "execution_count": 127,
   "id": "8d651006",
   "metadata": {},
   "outputs": [
    {
     "data": {
      "text/plain": [
       "array([20, 40, 80, 50, 50, 80, 50])"
      ]
     },
     "execution_count": 127,
     "metadata": {},
     "output_type": "execute_result"
    }
   ],
   "source": [
    "s.values"
   ]
  },
  {
   "cell_type": "markdown",
   "id": "79cc7c39",
   "metadata": {},
   "source": [
    "DATAFRAME"
   ]
  },
  {
   "cell_type": "code",
   "execution_count": 128,
   "id": "979bc669",
   "metadata": {},
   "outputs": [],
   "source": [
    "student_data = pd.DataFrame({\n",
    "    \"name\"      : ['AMAN', 'ANIL', 'AMAN', 'VINIT', 'MAHESH'],\n",
    "    \"age\"       : [20, 21, 20, 22, 21],\n",
    "    \"physics\"   : [10, 91, 60, 70, 80],\n",
    "    \"chimistry\" : [20, 30, 50, 45, 35],\n",
    "    \"maths\"     : [40, 52, 56, 60, 50]\n",
    "})"
   ]
  },
  {
   "cell_type": "code",
   "execution_count": 129,
   "id": "29a361e4",
   "metadata": {},
   "outputs": [
    {
     "data": {
      "text/html": [
       "<div>\n",
       "<style scoped>\n",
       "    .dataframe tbody tr th:only-of-type {\n",
       "        vertical-align: middle;\n",
       "    }\n",
       "\n",
       "    .dataframe tbody tr th {\n",
       "        vertical-align: top;\n",
       "    }\n",
       "\n",
       "    .dataframe thead th {\n",
       "        text-align: right;\n",
       "    }\n",
       "</style>\n",
       "<table border=\"1\" class=\"dataframe\">\n",
       "  <thead>\n",
       "    <tr style=\"text-align: right;\">\n",
       "      <th></th>\n",
       "      <th>name</th>\n",
       "      <th>age</th>\n",
       "      <th>physics</th>\n",
       "      <th>chimistry</th>\n",
       "      <th>maths</th>\n",
       "    </tr>\n",
       "  </thead>\n",
       "  <tbody>\n",
       "    <tr>\n",
       "      <th>0</th>\n",
       "      <td>AMAN</td>\n",
       "      <td>20</td>\n",
       "      <td>10</td>\n",
       "      <td>20</td>\n",
       "      <td>40</td>\n",
       "    </tr>\n",
       "    <tr>\n",
       "      <th>1</th>\n",
       "      <td>ANIL</td>\n",
       "      <td>21</td>\n",
       "      <td>91</td>\n",
       "      <td>30</td>\n",
       "      <td>52</td>\n",
       "    </tr>\n",
       "    <tr>\n",
       "      <th>2</th>\n",
       "      <td>AMAN</td>\n",
       "      <td>20</td>\n",
       "      <td>60</td>\n",
       "      <td>50</td>\n",
       "      <td>56</td>\n",
       "    </tr>\n",
       "    <tr>\n",
       "      <th>3</th>\n",
       "      <td>VINIT</td>\n",
       "      <td>22</td>\n",
       "      <td>70</td>\n",
       "      <td>45</td>\n",
       "      <td>60</td>\n",
       "    </tr>\n",
       "    <tr>\n",
       "      <th>4</th>\n",
       "      <td>MAHESH</td>\n",
       "      <td>21</td>\n",
       "      <td>80</td>\n",
       "      <td>35</td>\n",
       "      <td>50</td>\n",
       "    </tr>\n",
       "  </tbody>\n",
       "</table>\n",
       "</div>"
      ],
      "text/plain": [
       "     name  age  physics  chimistry  maths\n",
       "0    AMAN   20       10         20     40\n",
       "1    ANIL   21       91         30     52\n",
       "2    AMAN   20       60         50     56\n",
       "3   VINIT   22       70         45     60\n",
       "4  MAHESH   21       80         35     50"
      ]
     },
     "execution_count": 129,
     "metadata": {},
     "output_type": "execute_result"
    }
   ],
   "source": [
    "student_data"
   ]
  },
  {
   "cell_type": "code",
   "execution_count": 130,
   "id": "8c5686e8",
   "metadata": {},
   "outputs": [],
   "source": [
    "student_data['total'] = student_data['physics'] + student_data['chimistry'] + student_data['maths']"
   ]
  },
  {
   "cell_type": "code",
   "execution_count": 131,
   "id": "673cb0c1",
   "metadata": {},
   "outputs": [],
   "source": [
    "student_data['percentage'] = round(student_data.total / 3, ndigits=2)"
   ]
  },
  {
   "cell_type": "code",
   "execution_count": 132,
   "id": "0fc01313",
   "metadata": {},
   "outputs": [],
   "source": [
    "student_data.sort_values(by = 'percentage', ascending= False, inplace= True, ignore_index= True )"
   ]
  },
  {
   "cell_type": "code",
   "execution_count": 133,
   "id": "cb170903",
   "metadata": {},
   "outputs": [
    {
     "data": {
      "text/html": [
       "<div>\n",
       "<style scoped>\n",
       "    .dataframe tbody tr th:only-of-type {\n",
       "        vertical-align: middle;\n",
       "    }\n",
       "\n",
       "    .dataframe tbody tr th {\n",
       "        vertical-align: top;\n",
       "    }\n",
       "\n",
       "    .dataframe thead th {\n",
       "        text-align: right;\n",
       "    }\n",
       "</style>\n",
       "<table border=\"1\" class=\"dataframe\">\n",
       "  <thead>\n",
       "    <tr style=\"text-align: right;\">\n",
       "      <th></th>\n",
       "      <th>name</th>\n",
       "      <th>age</th>\n",
       "      <th>physics</th>\n",
       "      <th>chimistry</th>\n",
       "      <th>maths</th>\n",
       "      <th>total</th>\n",
       "      <th>percentage</th>\n",
       "    </tr>\n",
       "  </thead>\n",
       "  <tbody>\n",
       "    <tr>\n",
       "      <th>0</th>\n",
       "      <td>VINIT</td>\n",
       "      <td>22</td>\n",
       "      <td>70</td>\n",
       "      <td>45</td>\n",
       "      <td>60</td>\n",
       "      <td>175</td>\n",
       "      <td>58.33</td>\n",
       "    </tr>\n",
       "    <tr>\n",
       "      <th>1</th>\n",
       "      <td>ANIL</td>\n",
       "      <td>21</td>\n",
       "      <td>91</td>\n",
       "      <td>30</td>\n",
       "      <td>52</td>\n",
       "      <td>173</td>\n",
       "      <td>57.67</td>\n",
       "    </tr>\n",
       "    <tr>\n",
       "      <th>2</th>\n",
       "      <td>AMAN</td>\n",
       "      <td>20</td>\n",
       "      <td>60</td>\n",
       "      <td>50</td>\n",
       "      <td>56</td>\n",
       "      <td>166</td>\n",
       "      <td>55.33</td>\n",
       "    </tr>\n",
       "    <tr>\n",
       "      <th>3</th>\n",
       "      <td>MAHESH</td>\n",
       "      <td>21</td>\n",
       "      <td>80</td>\n",
       "      <td>35</td>\n",
       "      <td>50</td>\n",
       "      <td>165</td>\n",
       "      <td>55.00</td>\n",
       "    </tr>\n",
       "    <tr>\n",
       "      <th>4</th>\n",
       "      <td>AMAN</td>\n",
       "      <td>20</td>\n",
       "      <td>10</td>\n",
       "      <td>20</td>\n",
       "      <td>40</td>\n",
       "      <td>70</td>\n",
       "      <td>23.33</td>\n",
       "    </tr>\n",
       "  </tbody>\n",
       "</table>\n",
       "</div>"
      ],
      "text/plain": [
       "     name  age  physics  chimistry  maths  total  percentage\n",
       "0   VINIT   22       70         45     60    175       58.33\n",
       "1    ANIL   21       91         30     52    173       57.67\n",
       "2    AMAN   20       60         50     56    166       55.33\n",
       "3  MAHESH   21       80         35     50    165       55.00\n",
       "4    AMAN   20       10         20     40     70       23.33"
      ]
     },
     "execution_count": 133,
     "metadata": {},
     "output_type": "execute_result"
    }
   ],
   "source": [
    "student_data"
   ]
  },
  {
   "cell_type": "code",
   "execution_count": null,
   "id": "e01aac7d",
   "metadata": {},
   "outputs": [],
   "source": [
    "def give_grades(percent):\n",
    "    if percent < 33:\n",
    "        return \"F\"\n",
    "    \n",
    "    elif percent < 50:\n",
    "        return \"C\"\n",
    "    \n",
    "    elif percent < 60:\n",
    "        return \"B\"\n",
    "    \n",
    "    elif percent < 90:\n",
    "        return \"A\"\n",
    "    \n",
    "    else:\n",
    "        return \"A+\""
   ]
  },
  {
   "cell_type": "code",
   "execution_count": 139,
   "id": "afa73ca0",
   "metadata": {},
   "outputs": [],
   "source": [
    "student_data['grades'] = student_data['percentage'].apply(func= give_grades)"
   ]
  },
  {
   "cell_type": "code",
   "execution_count": null,
   "id": "d6c2333e",
   "metadata": {},
   "outputs": [],
   "source": [
    "# BOOLEAN INDEXING"
   ]
  },
  {
   "cell_type": "code",
   "execution_count": null,
   "id": "46a37b69",
   "metadata": {},
   "outputs": [],
   "source": [
    "# find out names of those whose age is more than 21\n",
    "# find out data of those who got failed\n",
    "# find out those who got grade a or a+"
   ]
  },
  {
   "cell_type": "code",
   "execution_count": 150,
   "id": "aaaba0af",
   "metadata": {},
   "outputs": [
    {
     "data": {
      "text/html": [
       "<div>\n",
       "<style scoped>\n",
       "    .dataframe tbody tr th:only-of-type {\n",
       "        vertical-align: middle;\n",
       "    }\n",
       "\n",
       "    .dataframe tbody tr th {\n",
       "        vertical-align: top;\n",
       "    }\n",
       "\n",
       "    .dataframe thead th {\n",
       "        text-align: right;\n",
       "    }\n",
       "</style>\n",
       "<table border=\"1\" class=\"dataframe\">\n",
       "  <thead>\n",
       "    <tr style=\"text-align: right;\">\n",
       "      <th></th>\n",
       "      <th>name</th>\n",
       "      <th>age</th>\n",
       "      <th>physics</th>\n",
       "      <th>chimistry</th>\n",
       "      <th>maths</th>\n",
       "      <th>total</th>\n",
       "      <th>percentage</th>\n",
       "      <th>grades</th>\n",
       "    </tr>\n",
       "  </thead>\n",
       "  <tbody>\n",
       "    <tr>\n",
       "      <th>0</th>\n",
       "      <td>VINIT</td>\n",
       "      <td>22</td>\n",
       "      <td>70</td>\n",
       "      <td>45</td>\n",
       "      <td>60</td>\n",
       "      <td>175</td>\n",
       "      <td>58.33</td>\n",
       "      <td>B</td>\n",
       "    </tr>\n",
       "    <tr>\n",
       "      <th>2</th>\n",
       "      <td>AMAN</td>\n",
       "      <td>20</td>\n",
       "      <td>60</td>\n",
       "      <td>50</td>\n",
       "      <td>56</td>\n",
       "      <td>166</td>\n",
       "      <td>55.33</td>\n",
       "      <td>B</td>\n",
       "    </tr>\n",
       "  </tbody>\n",
       "</table>\n",
       "</div>"
      ],
      "text/plain": [
       "    name  age  physics  chimistry  maths  total  percentage grades\n",
       "0  VINIT   22       70         45     60    175       58.33      B\n",
       "2   AMAN   20       60         50     56    166       55.33      B"
      ]
     },
     "execution_count": 150,
     "metadata": {},
     "output_type": "execute_result"
    }
   ],
   "source": [
    "student_data[student_data['maths'] > 55]"
   ]
  },
  {
   "cell_type": "code",
   "execution_count": null,
   "id": "7478af12",
   "metadata": {},
   "outputs": [],
   "source": []
  }
 ],
 "metadata": {
  "kernelspec": {
   "display_name": "Python 3",
   "language": "python",
   "name": "python3"
  },
  "language_info": {
   "codemirror_mode": {
    "name": "ipython",
    "version": 3
   },
   "file_extension": ".py",
   "mimetype": "text/x-python",
   "name": "python",
   "nbconvert_exporter": "python",
   "pygments_lexer": "ipython3",
   "version": "3.13.3"
  }
 },
 "nbformat": 4,
 "nbformat_minor": 5
}
